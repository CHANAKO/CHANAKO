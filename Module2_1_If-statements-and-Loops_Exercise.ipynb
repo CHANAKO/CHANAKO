{
 "cells": [
  {
   "cell_type": "markdown",
   "metadata": {},
   "source": [
    "# Conditions – if / else / elif\n",
    "- With ```if```, ```else``` and ```elif``` we can control the execution of certain parts of a program. \n",
    "- The ```if``` keyword tests a condition. If the condition is true, execute the code and if not, skip that part of the code.\n",
    "- Optionally you can use more conditions with ```elif```. If the if-condition is false, it will go to the next part of the code and check the second condition\n",
    "- The code after the ```else``` statement is run if all the conditions are false\n",
    "- if statements must always be **ended with a ```:```** and the code that should be executed has to be <b>indented by a tab</b>.\n",
    "- For example:\n",
    "```python\n",
    "    if (condition1):\n",
    "        do something when condition1 is true\n",
    "    elif (condition2):\n",
    "        do something else when condition2 is true\n",
    "    else:\n",
    "        when both conditions are false, do this\n",
    "```\n",
    "- For the next three cells, try to get all possible outputs by varying the value of x in the examples"
   ]
  },
  {
   "cell_type": "markdown",
   "metadata": {},
   "source": [
    "# Conditions – if – exercise \n",
    "1. Create a numeric variable\n",
    "2. If the number is zero, print 'The number is zero'\n",
    "3. Else, if the number is positive, print 'The number is positive'\n",
    "4. Else, if the number is negative, print 'The number is negative'\n",
    "5. Else, print 'This is not a number'"
   ]
  },
  {
   "cell_type": "code",
   "execution_count": 1,
   "metadata": {},
   "outputs": [
    {
     "name": "stdout",
     "output_type": "stream",
     "text": [
      "a is positive\n"
     ]
    }
   ],
   "source": [
    "# 1. Create a numeric variable\n",
    "a=10\n",
    "\n",
    "# 2. If the number is zero, print 'The number is zero'\n",
    "if a==0:\n",
    "    print(\"the number is zero\")\n",
    "\n",
    "# 3. Else, if the number is positive, print 'The number is positive'\n",
    "elif a >0:\n",
    "    print('a is positive')\n",
    "# 4. Else, if the number is negative, print 'The number is negative'\n",
    "elif a <0:\n",
    "    print('a is ngative')\n",
    "# 5. Else, print 'This is not a number'\n",
    "else:\n",
    "    print(\"this is not number\")\n"
   ]
  },
  {
   "cell_type": "code",
   "execution_count": 9,
   "metadata": {},
   "outputs": [
    {
     "name": "stdout",
     "output_type": "stream",
     "text": [
      "the number is  positive\n"
     ]
    }
   ],
   "source": [
    "a=10\n",
    "if a==0:\n",
    "    print('the number is zero')\n",
    "elif a>0:\n",
    "    print('the number is  positive')\n",
    "elif a<0:\n",
    "    print( 'the number is negative')\n",
    "else:\n",
    "    print('this is not number')"
   ]
  },
  {
   "cell_type": "markdown",
   "metadata": {},
   "source": [
    "# Conditions - if - exercise (Assignment type)\n",
    "\n",
    "1. Create a list of numbers\n",
    "2. If the length of the list is 10 or lower, print the last value of the list\n",
    "3. If the length of the list is higher than 20, print only the first 20 values\n",
    "4. If the length of the list is between 10 and 21 (else or elif), print the complete list\n",
    "5. Also print the length of the list when it is between 10 and 21 (hint: use the function `len(YOUR_LIST)`)"
   ]
  },
  {
   "cell_type": "code",
   "execution_count": 13,
   "metadata": {},
   "outputs": [
    {
     "name": "stdout",
     "output_type": "stream",
     "text": [
      "15\n"
     ]
    }
   ],
   "source": [
    "#1Create a list of numbers\n",
    "list_A=[4,6,7,8,9,12,30,15]\n",
    "#2.If the length of the list is 10 or lower, print the last value of the list\n",
    "if len(list_A)<=10:\n",
    "    print(list_A[-1])\n",
    "#3.If the length of the list is higher than 20, print only the first 20 values\n",
    "elif len(list_A)>20:\n",
    "    print(list_A[0:20])\n",
    "#4.If the length of the list is between 10 and 21 (else or elif), print the complete list\n",
    "elif len(list_A[10:21]):\n",
    "    print(list_A)\n",
    "#5.Also print the length of the list when it is between 10 and 21 (hint: use the function len(YOUR_LIST))\n",
    "else:\n",
    "    print(len(list_A))"
   ]
  },
  {
   "cell_type": "code",
   "execution_count": 28,
   "metadata": {},
   "outputs": [
    {
     "name": "stdout",
     "output_type": "stream",
     "text": [
      "[1, 2, 3, 4, 5, 6, 8, 9, 7, 10, 11, 12, 13]\n"
     ]
    }
   ],
   "source": [
    "# Write your code here\n",
    "# 1.create a list of numbers\n",
    "\n",
    "my_list =[1,2,3,4,5,6,8,9,7,10,11,12,13]\n",
    "\n",
    "# 2.If the length of the list is 10 or lower, print the last value of the list\n",
    "if len(my_list) <= 10:\n",
    "     print(my_list[-1])\n",
    "# 3.If the length of the list is higher than 20, print only the first 20 values\n",
    "elif len(my_list)>20:\n",
    "    print(my_list[0:20])\n",
    "#4.If the length of the list is between 10 and 21 (else or elif), print the complete list\n",
    "elif len(my_list[10:21]): \n",
    "    print((my_list))\n",
    "# 5.Also print the length of the list when it is between 10 and 21 (hint: use the function len(YOUR_LIST))\n",
    "else:\n",
    "    print(len(my_list[10:21]))\n"
   ]
  },
  {
   "cell_type": "code",
   "execution_count": 30,
   "metadata": {},
   "outputs": [
    {
     "name": "stdout",
     "output_type": "stream",
     "text": [
      "The list is : [1, 4, 5, 7, 8]\n",
      "Length of list using len() is : 5\n",
      "Length of list using length_hint() is : 5\n"
     ]
    }
   ],
   "source": [
    "#Initializing list\n",
    "test_list = [1, 4, 5, 7, 8]\n",
    " \n",
    "# Printing test_list\n",
    "print(\"The list is : \" + str(test_list))\n",
    " \n",
    "# Finding length of list\n",
    "# using sum()\n",
    "list_len = sum(1 for i in test_list)\n",
    "# Printing length of list\n",
    "print(\"Length of list using len() is : \" + str(list_len))\n",
    "print(\"Length of list using length_hint() is : \" + str(list_len))"
   ]
  },
  {
   "cell_type": "code",
   "execution_count": 32,
   "metadata": {},
   "outputs": [
    {
     "name": "stdout",
     "output_type": "stream",
     "text": [
      "age of chanako is:29\n"
     ]
    }
   ],
   "source": [
    "age=29\n",
    "print('age of chanako is:' +str(age))"
   ]
  },
  {
   "cell_type": "markdown",
   "metadata": {},
   "source": [
    "#     if/elif/else"
   ]
  },
  {
   "cell_type": "code",
   "execution_count": 17,
   "metadata": {},
   "outputs": [
    {
     "name": "stdout",
     "output_type": "stream",
     "text": [
      "thisnumber is postive\n"
     ]
    }
   ],
   "source": [
    "number=12\n",
    "if number>0:\n",
    "    print('thisnumber is postive')"
   ]
  },
  {
   "cell_type": "code",
   "execution_count": 18,
   "metadata": {},
   "outputs": [
    {
     "name": "stdout",
     "output_type": "stream",
     "text": [
      "the boolen is True\n",
      "the sentence is longer than 15\n"
     ]
    }
   ],
   "source": [
    "sentence=\" this is the long sentence\"\n",
    "if len(sentence)>15:\n",
    "    print(\"the boolen is True\")\n",
    "    print(\"the sentence is longer than 15\")"
   ]
  },
  {
   "cell_type": "code",
   "execution_count": 19,
   "metadata": {},
   "outputs": [
    {
     "name": "stdout",
     "output_type": "stream",
     "text": [
      "test1\n",
      "test2\n",
      "test3\n"
     ]
    }
   ],
   "source": [
    "x=123\n",
    "if x>=100:\n",
    "    print(\"test1\")\n",
    "    print(\"test2\")\n",
    "print(\"test3\")"
   ]
  },
  {
   "cell_type": "code",
   "execution_count": 1,
   "metadata": {},
   "outputs": [
    {
     "name": "stdout",
     "output_type": "stream",
     "text": [
      "test3\n"
     ]
    }
   ],
   "source": [
    "x=100\n",
    "if x !=100:\n",
    "    print('test1')\n",
    "    print(\"test2\")\n",
    "print(\"test3\")"
   ]
  },
  {
   "cell_type": "code",
   "execution_count": 2,
   "metadata": {},
   "outputs": [],
   "source": [
    "x=5\n",
    "if x % 2 ==0:\n",
    "    print('test1')\n",
    "    print('test2')\n",
    "it is incorrect"
   ]
  },
  {
   "cell_type": "code",
   "execution_count": 3,
   "metadata": {},
   "outputs": [
    {
     "name": "stdout",
     "output_type": "stream",
     "text": [
      "test2\n"
     ]
    }
   ],
   "source": [
    "x=5\n",
    "if x %2==0:\n",
    "    print(\"test1\")\n",
    "else:\n",
    "    print(\"test2\")"
   ]
  },
  {
   "cell_type": "code",
   "execution_count": 5,
   "metadata": {},
   "outputs": [
    {
     "name": "stdout",
     "output_type": "stream",
     "text": [
      "test1\n"
     ]
    }
   ],
   "source": [
    "x=4\n",
    "if x %2==0:\n",
    "    print(\"test1\")\n",
    "else:\n",
    "    print(\"test\")"
   ]
  },
  {
   "cell_type": "code",
   "execution_count": 1,
   "metadata": {},
   "outputs": [
    {
     "name": "stdout",
     "output_type": "stream",
     "text": [
      "it is hot\n"
     ]
    }
   ],
   "source": [
    "temp=33 \n",
    "if temp<0:\n",
    "    print('it is freezing')\n",
    "elif temp>30:\n",
    "    print('it is hot')\n",
    "else: \n",
    "    print('it is avearge')"
   ]
  },
  {
   "cell_type": "code",
   "execution_count": 2,
   "metadata": {},
   "outputs": [
    {
     "name": "stdout",
     "output_type": "stream",
     "text": [
      "the letter is d\n"
     ]
    }
   ],
   "source": [
    "letter='d'\n",
    "if letter=='a':\n",
    "    print('the letter is a')\n",
    "elif letter=='b':\n",
    "    print('the letter is b')\n",
    "elif letter=='c':\n",
    "    print('the letter is c')\n",
    "elif letter=='d':\n",
    "    print('the letter is d')\n",
    "elif letter=='e':\n",
    "    print( 'the letter is e')\n",
    "elif letter=='f':\n",
    "    print('letter is f')\n",
    "elif letter=='g':\n",
    "    print('letter is g')\n",
    "else:\n",
    "    print('it is another letter')"
   ]
  },
  {
   "cell_type": "code",
   "execution_count": 2,
   "metadata": {},
   "outputs": [
    {
     "name": "stdout",
     "output_type": "stream",
     "text": [
      "no immediate flood threat\n"
     ]
    }
   ],
   "source": [
    "# simulatedriver discharge data(cubic meter per second)\n",
    "current_discharge=200           # current river discharge\n",
    "flood_warning_threshold=500      # threshold for issuing a flood warning\n",
    "# check if the current river discharge excceeds the warning flood treshold\n",
    "if current_discharge> flood_warning_threshold:\n",
    "    print('flood_warning: river dicharge exceeds treshold!')\n",
    "# Active flood warning and emergency response\n",
    "else:\n",
    "    print('no immediate flood threat')   # continue monitoring and data collection\n",
    "    "
   ]
  },
  {
   "cell_type": "code",
   "execution_count": 4,
   "metadata": {},
   "outputs": [
    {
     "name": "stdout",
     "output_type": "stream",
     "text": [
      "no immediate flood risk:river water level is below the threshold!\n"
     ]
    }
   ],
   "source": [
    "# simulated  river water level data(in meters)\n",
    "river_water_level=3.8             # water level reading\n",
    "\n",
    "#define the flood  treshold( in meters)\n",
    "flood_threshold=4.0        # if the treshold exceeds this treshold level, issue a flood\n",
    "\n",
    "# check if the water level exceeds  the  flood threshold \n",
    "if river_water_level>flood_threshold:\n",
    "    print('flood warning:river water level is dangerously high!')\n",
    "else:\n",
    "    print('no immediate flood risk:river water level is below the threshold!')"
   ]
  },
  {
   "cell_type": "markdown",
   "metadata": {},
   "source": [
    "# Loops – while \n",
    "- the while condition is similar to the if statement, but instead it keeps looping its part of code until the comparison is not true anymore. \n",
    "- if the condition is already false, the code will not execute\n",
    "- while the condition is true, execute the code.\n",
    "- syntax is similar to the if statement\n",
    "```python\n",
    "     while (condition): \n",
    "        do something\n",
    "```\n",
    "- The code that will be looped can be 1 or multiple lines of code"
   ]
  },
  {
   "cell_type": "code",
   "execution_count": 14,
   "metadata": {},
   "outputs": [
    {
     "name": "stdout",
     "output_type": "stream",
     "text": [
      "1.0\n",
      "2.0\n",
      "4.0\n",
      "8.0\n",
      "16.0\n",
      "32.0\n",
      "64.0\n",
      "128.0\n",
      "256.0\n",
      "512.0\n",
      "1024.0\n"
     ]
    }
   ],
   "source": [
    "number = 1.0               # assign a variable with value 1\n",
    "while number <= 1024:      # as long as the variable \"number\" is below 1024, execute the code below\n",
    "    print(number)          # print the value of the variable \"number\"\n",
    "    number == number * 2    # double the value of the variable \"number\""
   ]
  },
  {
   "cell_type": "code",
   "execution_count": 41,
   "metadata": {},
   "outputs": [
    {
     "name": "stdout",
     "output_type": "stream",
     "text": [
      "10\n",
      "20\n",
      "30\n",
      "40\n",
      "50\n"
     ]
    }
   ],
   "source": [
    "my_list=[10,20,30,40,50]\n",
    "for  i in range(len(my_list)):\n",
    "    print(my_list[i])"
   ]
  },
  {
   "cell_type": "markdown",
   "metadata": {},
   "source": [
    "In the next cell, try different numbers.\n",
    "\n",
    "Also try a number higher than 20. What happens? Why is the code not running?"
   ]
  },
  {
   "cell_type": "code",
   "execution_count": 40,
   "metadata": {
    "scrolled": true
   },
   "outputs": [
    {
     "name": "stdout",
     "output_type": "stream",
     "text": [
      "10\n",
      "11\n",
      "12\n",
      "13\n",
      "14\n",
      "15\n",
      "16\n",
      "17\n",
      "18\n",
      "19\n"
     ]
    }
   ],
   "source": [
    "number = 10              # change the number to try out the code\n",
    "while number < 20:      # while number is smaller than 20, execute..\n",
    "    print(number)       # print the float stored in number and ..\n",
    "    number += 1         # add 1 to number (use += to update number, this is the short version of number = number + 1)     "
   ]
  },
  {
   "cell_type": "markdown",
   "metadata": {},
   "source": [
    "We can put the print command at the end, without a tab. Note: now it prints the number only once."
   ]
  },
  {
   "cell_type": "code",
   "execution_count": null,
   "metadata": {
    "scrolled": true
   },
   "outputs": [],
   "source": [
    "number = 5\n",
    "while number < 20:    \n",
    "    number += 1       \n",
    "print(number)        # Why do you see only one number?"
   ]
  },
  {
   "cell_type": "code",
   "execution_count": 4,
   "metadata": {},
   "outputs": [
    {
     "name": "stdout",
     "output_type": "stream",
     "text": [
      "20\n"
     ]
    }
   ],
   "source": [
    "number=5\n",
    "while number<20:\n",
    "    number+=1\n",
    "print(number)"
   ]
  },
  {
   "cell_type": "markdown",
   "metadata": {},
   "source": [
    "Now make the while loop count down instead of up, and stop at 0. \n",
    "\n",
    "- Hint: think about the condition\n",
    "- Hint: to decrease the variable, use `-=` instead of `+=`"
   ]
  },
  {
   "cell_type": "code",
   "execution_count": 1,
   "metadata": {},
   "outputs": [
    {
     "name": "stdout",
     "output_type": "stream",
     "text": [
      "3\n",
      "7\n",
      "11\n",
      "15\n",
      "19\n"
     ]
    }
   ],
   "source": [
    "# change the while loop to let it count down to 0. Hint: how should the conditional statement change?\n",
    "number = 3          \n",
    "while number < 20:      \n",
    "    print(number)       \n",
    "    number += 4"
   ]
  },
  {
   "cell_type": "code",
   "execution_count": 4,
   "metadata": {},
   "outputs": [
    {
     "name": "stdout",
     "output_type": "stream",
     "text": [
      "['Python', 'Python', 'Python']\n",
      "['Python', 'Python', 'Python', 'Python']\n",
      "['Python', 'Python', 'Python', 'Python', 'Python']\n",
      "['Python', 'Python', 'Python', 'Python', 'Python', 'Python']\n",
      "['Python', 'Python', 'Python', 'Python', 'Python', 'Python', 'Python']\n",
      "['Python', 'Python', 'Python', 'Python', 'Python', 'Python', 'Python', 'Python']\n",
      "['Python', 'Python', 'Python', 'Python', 'Python', 'Python', 'Python', 'Python', 'Python']\n"
     ]
    }
   ],
   "source": [
    "my_list = ['Python', 'Python', 'Python']\n",
    "\n",
    "while len(my_list) < 10:\n",
    "    print(my_list)\n",
    "    my_list = my_list + ['Python']"
   ]
  },
  {
   "cell_type": "code",
   "execution_count": 9,
   "metadata": {},
   "outputs": [
    {
     "name": "stdout",
     "output_type": "stream",
     "text": [
      "[0]\n",
      "[0, 1]\n",
      "[0, 1, 2]\n",
      "[0, 1, 2, 3]\n",
      "[0, 1, 2, 3, 4]\n",
      "[0, 1, 2, 3, 4, 5]\n",
      "[0, 1, 2, 3, 4, 5, 6]\n",
      "[0, 1, 2, 3, 4, 5, 6, 7]\n",
      "[0, 1, 2, 3, 4, 5, 6, 7, 8]\n",
      "[0, 1, 2, 3, 4, 5, 6, 7, 8, 9]\n",
      "[0, 1, 2, 3, 4, 5, 6, 7, 8, 9, 10]\n",
      "[0, 1, 2, 3, 4, 5, 6, 7, 8, 9, 10, 11]\n",
      "[0, 1, 2, 3, 4, 5, 6, 7, 8, 9, 10, 11, 12]\n",
      "[0, 1, 2, 3, 4, 5, 6, 7, 8, 9, 10, 11, 12, 13]\n",
      "[0, 1, 2, 3, 4, 5, 6, 7, 8, 9, 10, 11, 12, 13, 14]\n"
     ]
    }
   ],
   "source": [
    "my_list = [] # This creates an empty list\n",
    "i = 0              # This is used to count the number of loops\n",
    "\n",
    "while i < 15:\n",
    "    my_list.append(i) # This is a function to add a value to a list, later we will learn more about this\n",
    "    print(my_list)\n",
    "    i += 1            # Every loop i increases by 1"
   ]
  },
  {
   "cell_type": "code",
   "execution_count": 11,
   "metadata": {},
   "outputs": [
    {
     "name": "stdout",
     "output_type": "stream",
     "text": [
      "[2]\n",
      "[2, 4]\n",
      "[2, 4, 6]\n",
      "[2, 4, 6, 8]\n",
      "[2, 4, 6, 8, 10]\n",
      "[2, 4, 6, 8, 10, 12]\n",
      "[2, 4, 6, 8, 10, 12, 14]\n",
      "[2, 4, 6, 8, 10, 12, 14, 16]\n",
      "[2, 4, 6, 8, 10, 12, 14, 16, 18]\n",
      "[2, 4, 6, 8, 10, 12, 14, 16, 18, 20]\n",
      "[2, 4, 6, 8, 10, 12, 14, 16, 18, 20, 22]\n",
      "[2, 4, 6, 8, 10, 12, 14, 16, 18, 20, 22, 24]\n",
      "[2, 4, 6, 8, 10, 12, 14, 16, 18, 20, 22, 24, 26]\n",
      "[2, 4, 6, 8, 10, 12, 14, 16, 18, 20, 22, 24, 26, 28]\n"
     ]
    }
   ],
   "source": [
    "mylist=[]\n",
    "i=2\n",
    "while i<30:\n",
    "    mylist.append(i)\n",
    "    print(mylist)\n",
    "    i+=2"
   ]
  },
  {
   "cell_type": "markdown",
   "metadata": {},
   "source": [
    "# While loop - calculating air pollution example\n",
    "\n"
   ]
  },
  {
   "cell_type": "code",
   "execution_count": 12,
   "metadata": {},
   "outputs": [],
   "source": [
    "# Defining the pollution function (in module 3 we will learn about creating a function)\n",
    "def pollution(Cprev, Cin, Q, KD=0.001, V=800):\n",
    "    VdC = Q * (Cin - Cprev) - KD * V * Cprev\n",
    "    VCnew = V * Cprev + VdC\n",
    "    Cnew = VCnew / V\n",
    "    return Cnew"
   ]
  },
  {
   "cell_type": "code",
   "execution_count": 14,
   "metadata": {},
   "outputs": [
    {
     "ename": "IndentationError",
     "evalue": "unexpected indent (3554440400.py, line 5)",
     "output_type": "error",
     "traceback": [
      "\u001b[1;36m  Cell \u001b[1;32mIn[14], line 5\u001b[1;36m\u001b[0m\n\u001b[1;33m    Cprev = Clist[i]\u001b[0m\n\u001b[1;37m    ^\u001b[0m\n\u001b[1;31mIndentationError\u001b[0m\u001b[1;31m:\u001b[0m unexpected indent\n"
     ]
    }
   ],
   "source": [
    "# Example: stop after 150 loops\n",
    "i = 0\n",
    "Clist = [0]\n",
    "while i < 150:\n",
    "    Cprev = Clist[i]\n",
    "    Cnew = pollution(Cprev, 20, 2)\n",
    "    i += 1\n",
    "    Clist.append(Cnew)\n",
    "    print(str(i) + ': new concentration is ' + str(round(Cnew, 5)))"
   ]
  },
  {
   "cell_type": "code",
   "execution_count": null,
   "metadata": {},
   "outputs": [],
   "source": [
    "# Example: stop when concentration is above Cmax\n",
    "Cmax = 10\n",
    "\n",
    "i = 0\n",
    "Clist2 = [0]\n",
    "while True:\n",
    "    Cprev = Clist2[i]\n",
    "    Cnew = pollution(Cprev, 20, 2)\n",
    "    i += 1\n",
    "    if Cnew > Cmax:\n",
    "        break\n",
    "    Clist2.append(Cnew)\n",
    "    print(str(i) + ': new concentration is ' + str(round(Cnew, 5)))"
   ]
  },
  {
   "cell_type": "markdown",
   "metadata": {},
   "source": [
    "# Loops – while – exercise (Assignment type)\n",
    "1. Create a list of numbers with a length between 5 and 10\n",
    "2. Create a while loop that runs while the length of this list is lower than 30\n",
    "3. In the while loop add a zero to the list and print the list\n",
    "    - To add a value to a list, use either `my_list = my_list + [0]` or (the nicer way) `my_list.append(0)`\n",
    "4. Add an if statement to the while loop that prints 'The list is 30 numbers long' if the length of the list is 30"
   ]
  },
  {
   "cell_type": "code",
   "execution_count": null,
   "metadata": {},
   "outputs": [],
   "source": [
    "# 1. Create a list with numbers with a length between 5 and 10\n",
    " \n",
    "my_list = [5, 6, 7, 8, 9, 10]\n",
    "\n",
    "#2. Create a while loop that runs while the length of this list is lower than 30\n",
    "\n",
    "#while len(my_list) < 30:\n",
    "    \n",
    "# 3. In the while loop add a zero to the list and print the list\n",
    "    print(my_list)\n",
    "#my_list=my_list + [0]\n",
    "    \n",
    "# 4. Add an if statement to the while loop that prints 'The list is 30 numbers long' if the length of the list is 30\n"
   ]
  },
  {
   "cell_type": "markdown",
   "metadata": {},
   "source": [
    "# Loops – for \n",
    "- A string can be seen as a list of characters\n",
    "    - For example: ```\"hello\"``` is a list of the characters `'h'`, `'e'`, `'l'`, `'l'`, and `'o'`\n",
    "- There is a function to easily create a list of numbers: `range()`\n",
    "    - ```range(0, 5)``` creates a list starting at 0 until 5 (but not including 5): `[0, 1, 2, 3, 4]`\n",
    "\n",
    "Here are two examples:"
   ]
  },
  {
   "cell_type": "code",
   "execution_count": null,
   "metadata": {},
   "outputs": [],
   "source": [
    "number_list = [0, 1, 2, 3, 4]\n",
    "print(number_list)"
   ]
  },
  {
   "cell_type": "code",
   "execution_count": null,
   "metadata": {},
   "outputs": [],
   "source": [
    "number_list = range(0, 5)\n",
    "print(list(number_list))"
   ]
  },
  {
   "cell_type": "markdown",
   "metadata": {},
   "source": [
    "A for-loop loops over every variable in the list\n",
    "  - For example:\n",
    "```python\n",
    "    for (variable) in (list): \n",
    "        do something\n",
    "```\n",
    "\n",
    "One by one the for loops goes over the variables. Some examples:"
   ]
  },
  {
   "cell_type": "code",
   "execution_count": null,
   "metadata": {},
   "outputs": [],
   "source": [
    "my_list = ['Hello', 'how', 'are', 'you', '?']\n",
    "\n",
    "for word in my_list:\n",
    "    print(word)"
   ]
  },
  {
   "cell_type": "code",
   "execution_count": null,
   "metadata": {},
   "outputs": [],
   "source": [
    "number_array = range(0, 5)   #creates a list starting at 0 until 5 (but not including 5) values\n",
    "\n",
    "for number in number_array:  #iterates trough each number in the list\n",
    "    print(number)  "
   ]
  },
  {
   "cell_type": "code",
   "execution_count": null,
   "metadata": {
    "scrolled": true
   },
   "outputs": [],
   "source": [
    "for i in range(0, 8):    #you can also directly make the list in the for statement\n",
    "    print(i)"
   ]
  },
  {
   "cell_type": "markdown",
   "metadata": {},
   "source": [
    "The name of the variable can be anything you want, from apples to pears to your own name. \n",
    "\n",
    "- Try to change the variable name `i` to a random other name and see if the code still works."
   ]
  },
  {
   "cell_type": "code",
   "execution_count": null,
   "metadata": {
    "scrolled": false
   },
   "outputs": [],
   "source": [
    "for i in range(0, 8):\n",
    "    print(i)"
   ]
  },
  {
   "cell_type": "markdown",
   "metadata": {},
   "source": [
    "The function `range()` can take three arguments: `start`, `stop` and `step`, like this: `range(start, stop, step)`\n",
    "\n",
    "Above, we have used `range(0, 5)`, meaning that the list of numbers should start with 0 and end before 5, giving: `[0, 1, 2, 3, 4]`. (The step size is by default 1.)\n",
    "\n",
    "However, we can also add a third argument, which sets the step size, e.g.: `range(0, 10, 2)`. This gives: `[0, 2, 4, 6, 8]`. \n"
   ]
  },
  {
   "cell_type": "code",
   "execution_count": null,
   "metadata": {},
   "outputs": [],
   "source": [
    "x = range(0, 10, 2)\n",
    "print(list(x))"
   ]
  },
  {
   "cell_type": "code",
   "execution_count": null,
   "metadata": {
    "scrolled": true
   },
   "outputs": [],
   "source": [
    "# Assign different values to variable steps and see what happens and why?\n",
    "steps = 1\n",
    "\n",
    "for n in range(0, 10, steps):\n",
    "    print(n)"
   ]
  },
  {
   "cell_type": "markdown",
   "metadata": {},
   "source": [
    "You can also do a for loop over a string:"
   ]
  },
  {
   "cell_type": "code",
   "execution_count": null,
   "metadata": {},
   "outputs": [],
   "source": [
    "string = \"my string\"   # adds string \"my string\" to variable string\n",
    "\n",
    "for char in string:    # starts a loop in which for each character in variable string the following is executed\n",
    "    print(char)       # print what is in char "
   ]
  },
  {
   "cell_type": "code",
   "execution_count": null,
   "metadata": {},
   "outputs": [],
   "source": [
    "string = \"my string\" # adds string \"my string\" to variable string\n",
    "num = 0\n",
    "index = -1\n",
    "\n",
    "for char in string: # starts a loop in which for each character in variable string the following is executed..\n",
    "    num +=1\n",
    "    index += 1\n",
    "    print(index, num, char) # print the index, number and character \n",
    "    "
   ]
  },
  {
   "cell_type": "code",
   "execution_count": null,
   "metadata": {
    "scrolled": true
   },
   "outputs": [],
   "source": [
    "# you can also loop over a range() and use the values as the index\n",
    "string = \"my string\" # adds string \"my string\" to variable string\n",
    "\n",
    "for i in range(0, len(string)): \n",
    "    print(string[i]) \n"
   ]
  },
  {
   "cell_type": "markdown",
   "metadata": {},
   "source": [
    "# Loops - for - exercises\n",
    "\n",
    "Given the sentence `'Hello, how are you today? I am doing fine, thanks.'`, complete the following exercises:\n",
    "\n",
    "1. Print all characters of the sentence one by one using a for-loop\n",
    "2. Make a for loop printing the 1st, 3rd, 5th, 7th, ... etc ... letter of the sentence (hint: set the step size in range())\n",
    "3. Remember the indexes that Python uses (starting from 0: 0, 1, 2, 3, ...etc...). Print the indexes of the characters in the sentence using a for-loop."
   ]
  },
  {
   "cell_type": "code",
   "execution_count": null,
   "metadata": {},
   "outputs": [],
   "source": [
    "sentence = 'Hello, how are you today? I am doing fine, thanks.'"
   ]
  },
  {
   "cell_type": "code",
   "execution_count": null,
   "metadata": {},
   "outputs": [],
   "source": [
    "# 1. Print all characters of the sentence one by one using a for-loop\n"
   ]
  },
  {
   "cell_type": "code",
   "execution_count": null,
   "metadata": {},
   "outputs": [],
   "source": [
    "# 2. Make a for loop printing the 1st, 3rd, 5th, 7th, ... etc ... letter of the sentence (hint: set the step size in range())\n"
   ]
  },
  {
   "cell_type": "code",
   "execution_count": null,
   "metadata": {},
   "outputs": [],
   "source": [
    "# 3. Remember the indexes that Python uses (starting from 0: 0, 1, 2, 3, ...etc...). \n",
    "#    Print the indexes of the characters in the sentence using a for-loop.\n"
   ]
  }
 ],
 "metadata": {
  "kernelspec": {
   "display_name": "Python 3 (ipykernel)",
   "language": "python",
   "name": "python3"
  },
  "language_info": {
   "codemirror_mode": {
    "name": "ipython",
    "version": 3
   },
   "file_extension": ".py",
   "mimetype": "text/x-python",
   "name": "python",
   "nbconvert_exporter": "python",
   "pygments_lexer": "ipython3",
   "version": "3.11.5"
  }
 },
 "nbformat": 4,
 "nbformat_minor": 1
}
