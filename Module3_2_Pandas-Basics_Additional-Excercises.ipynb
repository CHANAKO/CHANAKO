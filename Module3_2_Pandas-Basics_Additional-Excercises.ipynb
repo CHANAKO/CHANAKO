{
 "cells": [
  {
   "cell_type": "markdown",
   "id": "52d0c993",
   "metadata": {},
   "source": [
    "## 3.2 Additional practice\n",
    "Below code imports the CSV file `Module3_2_dayData.csv` as a Pandas DataFrame. It contains daily Ethiopian Meteorology Institute (EMI) station data for different stations and elements. With the tools you learned, you can select parts of this DataFrame."
   ]
  },
  {
   "cell_type": "code",
   "execution_count": 2,
   "id": "06215972",
   "metadata": {},
   "outputs": [],
   "source": [
    "import pandas as pd\n",
    "dayData = pd.read_csv('Module3_2_dayData.csv')"
   ]
  },
  {
   "cell_type": "markdown",
   "id": "aa96cc3e",
   "metadata": {},
   "source": [
    "With Boolean slicing, we can filter the DataFrame. For example, to get all TMPMAX values for the station Gondar A.P., you can use below code."
   ]
  },
  {
   "cell_type": "code",
   "execution_count": 2,
   "id": "b261c8ad",
   "metadata": {},
   "outputs": [
    {
     "data": {
      "text/html": [
       "<div>\n",
       "<style scoped>\n",
       "    .dataframe tbody tr th:only-of-type {\n",
       "        vertical-align: middle;\n",
       "    }\n",
       "\n",
       "    .dataframe tbody tr th {\n",
       "        vertical-align: top;\n",
       "    }\n",
       "\n",
       "    .dataframe thead th {\n",
       "        text-align: right;\n",
       "    }\n",
       "</style>\n",
       "<table border=\"1\" class=\"dataframe\">\n",
       "  <thead>\n",
       "    <tr style=\"text-align: right;\">\n",
       "      <th></th>\n",
       "      <th>station</th>\n",
       "      <th>element</th>\n",
       "      <th>Datetime</th>\n",
       "      <th>year</th>\n",
       "      <th>month</th>\n",
       "      <th>day</th>\n",
       "      <th>value</th>\n",
       "    </tr>\n",
       "  </thead>\n",
       "  <tbody>\n",
       "    <tr>\n",
       "      <th>90752</th>\n",
       "      <td>Gondar A.P.</td>\n",
       "      <td>TMPMAX</td>\n",
       "      <td>1970-01-01</td>\n",
       "      <td>1970</td>\n",
       "      <td>1</td>\n",
       "      <td>1</td>\n",
       "      <td>28.0</td>\n",
       "    </tr>\n",
       "    <tr>\n",
       "      <th>90753</th>\n",
       "      <td>Gondar A.P.</td>\n",
       "      <td>TMPMAX</td>\n",
       "      <td>1970-01-02</td>\n",
       "      <td>1970</td>\n",
       "      <td>1</td>\n",
       "      <td>2</td>\n",
       "      <td>27.3</td>\n",
       "    </tr>\n",
       "    <tr>\n",
       "      <th>90754</th>\n",
       "      <td>Gondar A.P.</td>\n",
       "      <td>TMPMAX</td>\n",
       "      <td>1970-01-03</td>\n",
       "      <td>1970</td>\n",
       "      <td>1</td>\n",
       "      <td>3</td>\n",
       "      <td>28.0</td>\n",
       "    </tr>\n",
       "    <tr>\n",
       "      <th>90755</th>\n",
       "      <td>Gondar A.P.</td>\n",
       "      <td>TMPMAX</td>\n",
       "      <td>1970-01-04</td>\n",
       "      <td>1970</td>\n",
       "      <td>1</td>\n",
       "      <td>4</td>\n",
       "      <td>27.1</td>\n",
       "    </tr>\n",
       "    <tr>\n",
       "      <th>90756</th>\n",
       "      <td>Gondar A.P.</td>\n",
       "      <td>TMPMAX</td>\n",
       "      <td>1970-01-05</td>\n",
       "      <td>1970</td>\n",
       "      <td>1</td>\n",
       "      <td>5</td>\n",
       "      <td>27.4</td>\n",
       "    </tr>\n",
       "    <tr>\n",
       "      <th>...</th>\n",
       "      <td>...</td>\n",
       "      <td>...</td>\n",
       "      <td>...</td>\n",
       "      <td>...</td>\n",
       "      <td>...</td>\n",
       "      <td>...</td>\n",
       "      <td>...</td>\n",
       "    </tr>\n",
       "    <tr>\n",
       "      <th>106883</th>\n",
       "      <td>Gondar A.P.</td>\n",
       "      <td>TMPMAX</td>\n",
       "      <td>2015-09-26</td>\n",
       "      <td>2015</td>\n",
       "      <td>9</td>\n",
       "      <td>26</td>\n",
       "      <td>NaN</td>\n",
       "    </tr>\n",
       "    <tr>\n",
       "      <th>106884</th>\n",
       "      <td>Gondar A.P.</td>\n",
       "      <td>TMPMAX</td>\n",
       "      <td>2015-09-27</td>\n",
       "      <td>2015</td>\n",
       "      <td>9</td>\n",
       "      <td>27</td>\n",
       "      <td>NaN</td>\n",
       "    </tr>\n",
       "    <tr>\n",
       "      <th>106885</th>\n",
       "      <td>Gondar A.P.</td>\n",
       "      <td>TMPMAX</td>\n",
       "      <td>2015-09-28</td>\n",
       "      <td>2015</td>\n",
       "      <td>9</td>\n",
       "      <td>28</td>\n",
       "      <td>NaN</td>\n",
       "    </tr>\n",
       "    <tr>\n",
       "      <th>106886</th>\n",
       "      <td>Gondar A.P.</td>\n",
       "      <td>TMPMAX</td>\n",
       "      <td>2015-09-29</td>\n",
       "      <td>2015</td>\n",
       "      <td>9</td>\n",
       "      <td>29</td>\n",
       "      <td>NaN</td>\n",
       "    </tr>\n",
       "    <tr>\n",
       "      <th>106887</th>\n",
       "      <td>Gondar A.P.</td>\n",
       "      <td>TMPMAX</td>\n",
       "      <td>2015-09-30</td>\n",
       "      <td>2015</td>\n",
       "      <td>9</td>\n",
       "      <td>30</td>\n",
       "      <td>NaN</td>\n",
       "    </tr>\n",
       "  </tbody>\n",
       "</table>\n",
       "<p>16136 rows × 7 columns</p>\n",
       "</div>"
      ],
      "text/plain": [
       "            station element    Datetime  year  month  day  value\n",
       "90752   Gondar A.P.  TMPMAX  1970-01-01  1970      1    1   28.0\n",
       "90753   Gondar A.P.  TMPMAX  1970-01-02  1970      1    2   27.3\n",
       "90754   Gondar A.P.  TMPMAX  1970-01-03  1970      1    3   28.0\n",
       "90755   Gondar A.P.  TMPMAX  1970-01-04  1970      1    4   27.1\n",
       "90756   Gondar A.P.  TMPMAX  1970-01-05  1970      1    5   27.4\n",
       "...             ...     ...         ...   ...    ...  ...    ...\n",
       "106883  Gondar A.P.  TMPMAX  2015-09-26  2015      9   26    NaN\n",
       "106884  Gondar A.P.  TMPMAX  2015-09-27  2015      9   27    NaN\n",
       "106885  Gondar A.P.  TMPMAX  2015-09-28  2015      9   28    NaN\n",
       "106886  Gondar A.P.  TMPMAX  2015-09-29  2015      9   29    NaN\n",
       "106887  Gondar A.P.  TMPMAX  2015-09-30  2015      9   30    NaN\n",
       "\n",
       "[16136 rows x 7 columns]"
      ]
     },
     "execution_count": 2,
     "metadata": {},
     "output_type": "execute_result"
    }
   ],
   "source": [
    "dayData.loc[(dayData.station == 'Gondar A.P.') & (dayData.element == 'TMPMAX')]"
   ]
  },
  {
   "cell_type": "code",
   "execution_count": null,
   "id": "4903b04f",
   "metadata": {},
   "outputs": [],
   "source": [
    "# Select all rows for station Shembekit\n"
   ]
  },
  {
   "cell_type": "code",
   "execution_count": null,
   "id": "66dafeb6",
   "metadata": {},
   "outputs": [],
   "source": [
    "# Select all rows for station Ambagiorgis Sch, for the year 1972 only"
   ]
  },
  {
   "cell_type": "markdown",
   "id": "9633d747",
   "metadata": {},
   "source": [
    "Numpy as several mathematical functions. You can put any part of the DataFrame into those functions. For example, to calculate the sum of PRECIP for station Shembekit in 2015, we need to select that data, and then take the sum with `np.sum`."
   ]
  },
  {
   "cell_type": "code",
   "execution_count": 3,
   "id": "3cd4da0d",
   "metadata": {},
   "outputs": [
    {
     "name": "stdout",
     "output_type": "stream",
     "text": [
      "1119.0000000000002\n"
     ]
    }
   ],
   "source": [
    "import numpy as np\n",
    "# Select only Shembekit, 2015, PRECIP, and save it under the name precip_sh_2015\n",
    "precip_sh_2015 = dayData.loc[(dayData.station == 'Shembekit') & (dayData.year == 2015) & (dayData.element == 'PRECIP')] \n",
    "\n",
    "# Select only column 'value', and take the sum of this column\n",
    "precip_sum = np.sum(precip_sh_2015.value) \n",
    "\n",
    "print(precip_sum)"
   ]
  },
  {
   "cell_type": "code",
   "execution_count": null,
   "id": "7f7dd18d",
   "metadata": {},
   "outputs": [],
   "source": [
    "# What is the average TMPMAX for Gondar A.P.?"
   ]
  },
  {
   "cell_type": "code",
   "execution_count": null,
   "id": "4fca2a56",
   "metadata": {},
   "outputs": [],
   "source": [
    "# What is the maximum SUNHRS for Gondar A.P. in the month August, 2012?"
   ]
  },
  {
   "cell_type": "code",
   "execution_count": null,
   "id": "85b0c695",
   "metadata": {},
   "outputs": [],
   "source": [
    "# What are the minimum and maximum years for station Aymba?"
   ]
  },
  {
   "cell_type": "markdown",
   "id": "33deb99e",
   "metadata": {},
   "source": [
    "We know how to combine two conditions using the **&** symbol. For example, when we want only the rows from station Shembekit of the year 2015, we can use the following code:\n",
    "```python\n",
    "dayData.loc[(dayData.station == 'Shembekit') & (dayData.year == 2015)]\n",
    "```\n",
    "\n",
    "But if we now want to select all rows where the year is either 2015 OR 2016, we should not use the **&** symbol, but we can use the **|** symbol, like this:\n",
    "\n",
    "```python\n",
    "dayData.loc[(dayData.year == 2015) | (dayData.year == 2016)]\n",
    "```\n",
    "\n",
    "If we now want to combine this with selecting a station, we need to put the selection of years within brackets, like this:\n",
    "\n",
    "```python\n",
    "dayData.loc[(dayData.station == 'Shembekit') & ((dayData.year == 2015) | (dayData.year == 2016))]\n",
    "```\n"
   ]
  },
  {
   "cell_type": "code",
   "execution_count": null,
   "id": "2d586375",
   "metadata": {},
   "outputs": [],
   "source": [
    "# Select all rows with years 2011 or 2012"
   ]
  },
  {
   "cell_type": "code",
   "execution_count": null,
   "id": "bb0a1bc2",
   "metadata": {},
   "outputs": [],
   "source": [
    "# Select all rows of station Aymba for the years 2009 or 2010"
   ]
  },
  {
   "cell_type": "code",
   "execution_count": null,
   "id": "2abb1c14",
   "metadata": {},
   "outputs": [],
   "source": [
    "# Advanced: Of station Maksegnit, select the values where element is PRECIP for year 2000 or 2001"
   ]
  },
  {
   "cell_type": "code",
   "execution_count": null,
   "id": "16e01008",
   "metadata": {},
   "outputs": [],
   "source": [
    "# Advanced: change below for-loop to calculate the sum of PRECIP per station, and store it in the dictionary precipDict\n",
    "precip_dict = {}\n",
    "for station in ['Ambagiorgis Sch','Aymba','Chewahit','Gondar A.P.','Maksegnit','Shembekit']:\n",
    "    # Add code that calculates the sum of precip for only station\n",
    "    # Add code that adds the calculated sum into precip_dict, like precip_dict[station] = sum"
   ]
  },
  {
   "cell_type": "code",
   "execution_count": null,
   "id": "b506ef6a",
   "metadata": {},
   "outputs": [],
   "source": [
    "# Advanced: change below for-loop to calculate the sum of PRECIP per year for Aymba, and store it in the dictionary precipDictAymba\n",
    "startyear = #put the minimum year for Aymba here\n",
    "endyear = #put the maximum year for Aymba here\n",
    "aymba_precip_dict = {}\n",
    "for year in range(startyear,endyear+1):\n",
    "    # Add code that calculates the sum of precip for only Aymba, only one year\n",
    "    # Add code that adds the calculated sum into aymba_precip_dict, like aymba_precip_dict[year]=sum"
   ]
  }
 ],
 "metadata": {
  "kernelspec": {
   "display_name": "Python 3 (ipykernel)",
   "language": "python",
   "name": "python3"
  },
  "language_info": {
   "codemirror_mode": {
    "name": "ipython",
    "version": 3
   },
   "file_extension": ".py",
   "mimetype": "text/x-python",
   "name": "python",
   "nbconvert_exporter": "python",
   "pygments_lexer": "ipython3",
   "version": "3.11.5"
  }
 },
 "nbformat": 4,
 "nbformat_minor": 5
}
