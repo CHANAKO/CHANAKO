{
 "cells": [
  {
   "cell_type": "markdown",
   "metadata": {},
   "source": [
    "# Functions\n",
    "\n",
    "- A function is a block of organized, reusable code that is used to perform a single, related action. \n",
    "- There are many prebuilt functions that you already know.\n",
    "   - For example: `print()`\n",
    "   - Now we are going to create our own functions\n",
    "- **def** means that you are defining a function in this block. `function_name` is the name of the function and can be anything and the variables between the parenthesis are the parameters (input) for the function. For example:\n",
    "```python\n",
    "def function_name(parameter1, parameter2):  \n",
    "    value = parameter1                      \n",
    "    return value                           \n",
    "```\n",
    "```python\n",
    "test = function_name(\"Hello\", ”Functions\")\n",
    "```\n",
    "- Try to figure out if you can guess what the output of the example is, then you can try it by running it in the codeblock below."
   ]
  },
  {
   "cell_type": "code",
   "execution_count": 3,
   "metadata": {},
   "outputs": [
    {
     "name": "stdout",
     "output_type": "stream",
     "text": [
      "Hello\n"
     ]
    }
   ],
   "source": [
    "def function_name(parameter1):   #in this line we define the function 'function_name' with two parameters\n",
    "  value = parameter1             #we make a new variable that is equal to parameter 1\n",
    "  return value                   #this function returns the variable 'value'\n",
    "test = function_name(\"Hello\")\n",
    "print(test)"
   ]
  },
  {
   "cell_type": "code",
   "execution_count": 2,
   "metadata": {},
   "outputs": [
    {
     "ename": "IndentationError",
     "evalue": "unindent does not match any outer indentation level (<tokenize>, line 19)",
     "output_type": "error",
     "traceback": [
      "\u001b[1;36m  File \u001b[1;32m<tokenize>:19\u001b[1;36m\u001b[0m\n\u001b[1;33m    ELSE IF(channel_geometry==2)then\u001b[0m\n\u001b[1;37m    ^\u001b[0m\n\u001b[1;31mIndentationError\u001b[0m\u001b[1;31m:\u001b[0m unindent does not match any outer indentation level\n"
     ]
    }
   ],
   "source": [
    "#channel_geometry\n",
    "#\n",
    "#write(*,*)\" This a program that computes the uniform flow of d/t cross-sectional geometry\"\n",
    "#write(*,'(/)')\n",
    "#write(*,*)\" Input 1 for Rectangular,2 for Trapezoidal, 3 for Triangular\"\n",
    "Q= discharge through channel\n",
    "n=roughness coefficiecnt\n",
    "s=longitudinal slope\n",
    "b=\n",
    "z,y\n",
    "\n",
    "IF(channel_geometry ==1):\n",
    "    print(\"The channel geometry is Rectangular\")\n",
    "      \n",
    "      write(*,*)\"Please enter y,b,s,n\"\n",
    "      read(*,*)y,b,s,n\n",
    "      Q=(sqrt(s)*(b*y)**(5.0/3.0))/(n*((b)+(2.0*y))**(2.0/3.0))\n",
    "      write(*,*)\"Q(cumcs)=\",Q\n",
    "  ELSE IF(channel_geometry==2)then\n",
    "      write(*,*)\" The channel geometry is Trapezoidal\"\n",
    "      write(*,*)\"Please enter y,b,s,n,z\"\n",
    "      read(*,*)y,b,s,n,z\n",
    "      Q=(sqrt(s)*((b+z*y)*y)**(5.0/3.0))/(n*(b+2*y*sqrt(1+z**2.0))**(2.0/3.0))\n",
    "      write(*,*)\"Q(cumcs)=\",Q\n",
    "    ELSE\n",
    "      write(*,*)\"The channel geometry is Triangular\"\n",
    "      write(*,*)\"please enter y,z,n,s\"\n",
    "      read(*,*)y,z,s,n\n",
    "      Q=(sqrt(s)*((z*y)*y)**(5.0/3.0))/(n*(2*y*sqrt(1+z**2.0))**(2.0/3.0))\n",
    "      write(*,*)\"Q(cumcs)=\",Q\n",
    "     END IF\n",
    " End program"
   ]
  },
  {
   "cell_type": "code",
   "execution_count": 14,
   "metadata": {
    "scrolled": true
   },
   "outputs": [
    {
     "name": "stdout",
     "output_type": "stream",
     "text": [
      "1\n",
      "2\n",
      "3\n"
     ]
    }
   ],
   "source": [
    "# Define a function to print a list\n",
    "# A function does not have to return a value, it can also perform a function. The function below prints all the items in a list.\n",
    "def print_list(my_list):\n",
    "    for item in my_list:\n",
    "        print(item)\n",
    "\n",
    "test_list = [1, 2, 3]\n",
    "print_list(test_list)"
   ]
  },
  {
   "cell_type": "markdown",
   "metadata": {},
   "source": [
    "However ... `Return ...` at the end of the function is crucial for letting Python remember the output of the function\n",
    "\n",
    "The code below shows this. What is the difference between the two cells below?"
   ]
  },
  {
   "cell_type": "code",
   "execution_count": 3,
   "metadata": {},
   "outputs": [
    {
     "name": "stdout",
     "output_type": "stream",
     "text": [
      "From within function: 10\n",
      "From variable: None \n",
      "\n",
      "Python did not remember\n"
     ]
    }
   ],
   "source": [
    "def add_numbers1(number=5):\n",
    "    a = number + number\n",
    "    print(\"From within function:\", a)\n",
    "    \n",
    "sum_numbers = add_numbers1()  \n",
    "\n",
    "print(\"From variable:\", sum_numbers, \"\\n\\nPython did not remember\")"
   ]
  },
  {
   "cell_type": "code",
   "execution_count": 4,
   "metadata": {},
   "outputs": [
    {
     "name": "stdout",
     "output_type": "stream",
     "text": [
      "From within function: 10\n",
      "From variable: 10 \n",
      "\n",
      "Python does remember!\n"
     ]
    }
   ],
   "source": [
    "def add_numbers2(number=5):\n",
    "    a = number + number\n",
    "    print (\"From within function:\", a)\n",
    "    return a\n",
    "    \n",
    "sum_numbers = add_numbers2()     \n",
    "print(\"From variable:\", sum_numbers, \"\\n\\nPython does remember!\")"
   ]
  },
  {
   "cell_type": "code",
   "execution_count": 5,
   "metadata": {},
   "outputs": [
    {
     "name": "stdout",
     "output_type": "stream",
     "text": [
      "From within function: 20\n"
     ]
    },
    {
     "data": {
      "text/plain": [
       "20"
      ]
     },
     "execution_count": 5,
     "metadata": {},
     "output_type": "execute_result"
    }
   ],
   "source": [
    "# why does the function below show two outputs?\n",
    "add_numbers2(10)"
   ]
  },
  {
   "cell_type": "markdown",
   "metadata": {},
   "source": [
    "# Functions - Exercise 1\n",
    "1. Define a function with 3 variables as input.\n",
    "    - Remember the syntax of a function: `def name_of_the_function(variable1, variable2)`\n",
    "2. Create a new variable in this function that contains all three variables added together\n",
    "3. Return this variable\n",
    "4. Create three new variables with random lists (5-10 values long)\n",
    "5. Create three new variables with random numbers\n",
    "6. Print the result of this function using the three lists as input\n",
    "7. Print the result of this function using the three numbers as input    \n",
    "    "
   ]
  },
  {
   "cell_type": "code",
   "execution_count": 21,
   "metadata": {},
   "outputs": [],
   "source": [
    "# 1. Define a function with 3 variables as input.\n",
    "def three_variables(a,b,c):\n",
    "    new_var = a+b+c\n",
    "    return new_var"
   ]
  },
  {
   "cell_type": "code",
   "execution_count": 18,
   "metadata": {},
   "outputs": [],
   "source": [
    "# 4. Create three new variables with random lists\n",
    "list1 = [5,7,9,8,8,2]\n",
    "list2 =[12,5,6,7,8]\n",
    "list3 = [7,5,7,8,3,9]\n"
   ]
  },
  {
   "cell_type": "code",
   "execution_count": 6,
   "metadata": {},
   "outputs": [],
   "source": [
    "# 5. Create three new variables with random numbers\n",
    "num1 = 5\n",
    "num2 = 3\n",
    "num3 = 5"
   ]
  },
  {
   "cell_type": "code",
   "execution_count": 10,
   "metadata": {},
   "outputs": [
    {
     "data": {
      "text/plain": [
       "[5, 7, 9, 8, 8, 2, 12, 5, 6, 7, 8, 7, 5, 7, 8, 3, 9]"
      ]
     },
     "execution_count": 10,
     "metadata": {},
     "output_type": "execute_result"
    }
   ],
   "source": [
    "# 6. Print the result of this function using the three lists as input\n",
    "three_variables(list1, list2,list3)"
   ]
  },
  {
   "cell_type": "code",
   "execution_count": 7,
   "metadata": {},
   "outputs": [
    {
     "data": {
      "text/plain": [
       "13"
      ]
     },
     "execution_count": 7,
     "metadata": {},
     "output_type": "execute_result"
    }
   ],
   "source": [
    "# 7. print the result of this function using the three numbers as input \n",
    "three_variables(num1,num2, num3)"
   ]
  },
  {
   "cell_type": "markdown",
   "metadata": {},
   "source": [
    "# Functions - Exercise 2\n",
    "\n",
    "Now lets try to write a function to get some insight into a list of temperatures.\n",
    "\n",
    "We want the function to go over a list of temperatures and count:\n",
    "- How many temperatures are lower than 0\n",
    "- How many temperatures are between 0 and 20\n",
    "- How many temperatures are higher than 20\n",
    "\n",
    "`temps = [2.4, 23.5, 11.1, 33.9, 39.2, -3.2, -1.0, 5.5]`\n",
    "\n",
    "Let's build the function step by step:\n",
    "\n",
    "1. Start a function that can handle this list as input; think of a creative name\n",
    "2. Create three variables (`low`, `average` and `high`) that can be used to count the number of occurences\n",
    "3. Loop over the list\n",
    "4. For every temperature in the list: check if it is low, average or high and update the counter variables\n",
    "    - Hint: use `if`, `elif`, and `else` to check to which category the temperature belongs\n",
    "    - Hint: update the counters using `+=`\n",
    "5. Create a dictionary with keys `low`, `average` and `high` and with the final counts as values\n",
    "6. Return the dictionary"
   ]
  },
  {
   "cell_type": "code",
   "execution_count": 24,
   "metadata": {},
   "outputs": [
    {
     "name": "stdout",
     "output_type": "stream",
     "text": [
      "[2.4, 23.5, 11.1, 33.9, 39.2, -3.2, -1.0, 5.5]\n"
     ]
    }
   ],
   "source": [
    "temps = [2.4, 23.5, 11.1, 33.9, 39.2, -3.2, -1.0, 5.5]\n",
    "print(temps)"
   ]
  },
  {
   "cell_type": "code",
   "execution_count": 39,
   "metadata": {},
   "outputs": [
    {
     "ename": "TypeError",
     "evalue": "'<' not supported between instances of 'list' and 'int'",
     "output_type": "error",
     "traceback": [
      "\u001b[1;31m---------------------------------------------------------------------------\u001b[0m",
      "\u001b[1;31mTypeError\u001b[0m                                 Traceback (most recent call last)",
      "Cell \u001b[1;32mIn[39], line 2\u001b[0m\n\u001b[0;32m      1\u001b[0m \u001b[38;5;66;03m# Write your code here\u001b[39;00m\n\u001b[1;32m----> 2\u001b[0m \u001b[38;5;28;01mif\u001b[39;00m temps \u001b[38;5;241m<\u001b[39m\u001b[38;5;241m5\u001b[39m:\n\u001b[0;32m      3\u001b[0m     \u001b[38;5;28mprint\u001b[39m(\u001b[38;5;28mint\u001b[39m(\u001b[38;5;124m\"\u001b[39m\u001b[38;5;124mlow\u001b[39m\u001b[38;5;124m\"\u001b[39m))\n\u001b[0;32m      4\u001b[0m \u001b[38;5;28;01melif\u001b[39;00m temps\u001b[38;5;241m>\u001b[39m\u001b[38;5;241m5\u001b[39m:\n",
      "\u001b[1;31mTypeError\u001b[0m: '<' not supported between instances of 'list' and 'int'"
     ]
    }
   ],
   "source": [
    "# Write your code here\n",
    "if temps <5:\n",
    "    print(int(\"low\"))\n",
    "elif temps>5:\n",
    "    print(int(\"high\"))\n",
    "else:\n",
    "    print(int(\"average\"))"
   ]
  },
  {
   "cell_type": "code",
   "execution_count": null,
   "metadata": {},
   "outputs": [],
   "source": [
    "# Now test your function on the list temps\n"
   ]
  },
  {
   "cell_type": "markdown",
   "metadata": {},
   "source": [
    "# Modules\n",
    "\n",
    "- A module is a file consisting of Python code.\n",
    "- A module allows you to logically organize your Python code.\n",
    "     - To split it into several files for easier maintenance.\n",
    "     - To reuse that handy function that you’ve written in several programs, without copying it into every script.\n",
    "     \n",
    "\n",
    "\n",
    "- Remember we wrote a function to count temperatures. We can store such a function in a file so that we can use it later. We can store `count_temps` into a file called **my_function.py** \n",
    "\n",
    "**Exercise:** \n",
    "\n",
    "1. Create a new .txt file (for example, with notepad) and place it in the same location as this exercises notebook. \n",
    "2. Copy and paste the script for the `count_temps` function in this file. \n",
    "3. Save and close and make sure the file is renamed to **my_function.py**.\n",
    "- You can import a module in Python using its file name.\n",
    "    - ```import filename``` where filename is the name of the file, to tell the interpreter we are using this file.\n",
    "    - You can call a function from the other file by using ```filename.function```, where function is the name of the function.\n",
    "\n",
    "Here is a big list of 1000 temperatures:"
   ]
  },
  {
   "cell_type": "code",
   "execution_count": 19,
   "metadata": {},
   "outputs": [
    {
     "name": "stdout",
     "output_type": "stream",
     "text": [
      "1000\n"
     ]
    }
   ],
   "source": [
    "thousand_temps = [32, 5, -9, 26, 38, 24, 18, -1, 8, 20, 26, 4, 18, -4, 23, -5, 31, 18, -3, 30, -9, 2, 29, -1, -7, 3, 5, 24, 2, 11,  39,  -3,  17,  23, -10,  11,  22,  -4,  33,7,  28,   1,  13,   3,  -5,  -1,   5,   3,  27,  23,   7,  11,-10,  26,  27,  24,  32,  22,  27,  18,  17,   0,  14,   8,  37,34,  30,  14,  14,  37, -10,  -7,  -2,  -3,  -5,  26,   8,  27,12,  -8,  23,  23,  30,  -9,  -9,  -7,  -1,  37,  26,   1,   6,6,  -1,  -1,  -4,  29,  25,   2,   7,   1,   9,  30,  11,  -4,-5,  -9,  38,  22,  15,   3,  39,   3,  19,   5,   8,  20,  31,5,  11,  -3,  -9,  -6,  15,  26,  19,  16,  18,  -1,  38,  22,-3,  24,  -9,  37,  27,  35,   9,   1,  22,   6,   1,  22,  -3,31,  26,   2,   9,   0,  10,  10,  13,  -9,  16,  21,  22,  31,1,  -3,   5,  33,  27,  31,   2,  35,  18,  27,  23,  33,  11,33,  -3,  -1,  37,  30,  35,   5,  37,  26,  31,  18,  -7,  15,1,  -7,  17,  33,  39,  10,   5,   5,   9,  36,  13,  28,  -9,22,  28,  33,  -5, -10,  33,   2,  25,  28,   4,   8,  -2,  -7,23,   6,  10,  32,   3,  33,  -8,  21,  -7,  -9,   1,  28,   3,1,  16,   7,   2,   1,  -1,  36,  38,  26,  29,  27,   0,  36,37,  11,  -4,   3,  17,  25,  36,  32,  19,  19,  17,  16,  35,5,   6,  31,  34,  -8,  15,  15,  -6,  -2,  10,  30,  19,  30,31,   2,  11,  -2,   4,  39,  -8,  31,  37,  12, -10,  22,  37,17,  15,  -2,  33,   2,  30,  22,  19,  13,  -4,  -1,   6,  13,6,  -8,  34,   2,  36,  34,  -4,  24,  22,  36,   4,  18,  10,30,  34,  38,  22,  15,  36,  24,  12,   4,  10,  -3,   6,   0,29,   1,   0,  37,  21,  28,  16,  13,   4,   5,   6,  20,  10,39,  20,  -6,  -8,  32,  32,  34,  38,  -8,  20,  29,  16,  10,32,  10,  -4,  -2,  37,  38,   5,  19,  35,  35,  16,   1,   1,-3,  12,  27,   0,  23,  37,  -6,   7,  39,  25,  26,  11,  30,24,  -5,  -4,  16,  16,  35,  39,   9,  -5,  30,  18,  21,  31,-9,  36,  11,   8,  29,  34,  18,  13,  -1,  29,  34,  -1,  24,37,  31,  30,  30,  39,  -4,  -7,  11,  35,  14,  -4,  37,  27,37,  12,   1,  12,  32,   1,  12,  17,  24,  -2,  13,   0,  21,20,  38,   0,  -3,   6,   2,  22,  35, -10,  34,  18, -10,  -7,-2,   3,   7,  25,  -5,   4,  -5,   4,  19,   7,   3,  27,   2,-5,  33, -10,  38,  -9,   4,  17,  -9,  34,  12,  32,  38,  28,25,  38,  20,   9,  21,  32,  37,   6,  -2,  -4,  12,  14,  27,35,  23,   6,  -5,  -4,   1, -10,  38,  20,   7,   8,  38,   1,-10,  -2,  -7,  31,  36,   7,   9,  38,  37,  -2,  12,   2,   7,0,   2,  20,   4,   7,  16,   5,  18,  32,   3,   3,  12,  35,10,  14,  -2,  37,   6,  10,  38,  -6,  16,  28,  25,  29,   2,2,   8, -10,   8,  -2,  16,  25,   7,  33, -10,   4,  -5,  -5,0,   3,  -3,   4,   4,   4,   0,  -2,  14,  35,   0,  12,  38,-4,   3,  39,  -7,  17,  30,   2, -10,  17,  36,  -3,  31,   4,7,  38,  27,   4,  -1,  24,  -2,  -8,   3,  16,  -2,  12,  19,36,  16,  39,  19,  35,   7,  23,  28,  19,   1,  -4,  29,  24,9,   9,  28,   9,  -4, -10,  28,   8,   9,  14,  21,  18,  -2,18,  32,  -7,   4,  28,  16,  30,  31,  24,  35,  -9,   2,  -3,5,  -2,  34,  -2,  29,   0,  31,   9,  16,  21,  15,  14,  -2,37,  20,  27,   1, -10,  11,  -5,  11,  27,  20,  19,  -7,  28,-9, -10,  -5,  -6,  38,  36,  10,  18,   6,  -5,   2,   9,  -5,3,  -1,  38,   2,   9,  18,  26,  36,  37,  -5,  -8,  -3,  31,36,  28,  15,  36,  33,  16,  25,  30,   3,  27,  25, -10, -10,24,  13,  -9,  21,  28,   5,  11,  22,   5,   6,  17,  22,  37,2,  -3,  19,  24,  -4,  12,  27,   6,  35,  26,   7,  22,  -5,37,  -4,  -6,   6,  -4,  36,  10,  13,  20,  35,  39,  30,  39,29,  28,  22,  -2,   6,  -2,  30,   2,   4,  31,  20,  -7,  -8,8,  33,  26,  39,  30,  10,  21,  39,  11,  33,  26,  23,  -3,-9,  -3,  21,  22,   4,  18,  31,  -1,  18,  -9,  29,  32,   2,1,   1,  33,   4,  17, -10,  23,  36,   0,  25,  -5,  22,  29,32,  11,  20,  22,  -1,  11,  35,  28,  12,  31,  15,   3,  -8,3,   0,  11,  -5,  -9,  -7,  35,  28,  -2,  -3,   2,  29,   8,25,   2,  29,  22,  -2,  -5,  -5,  27,  17,   8,   5,   1,  32,33,  38,  24,   8,  -3,  22, -10,  12,   9,  -9,  28,  25,  21,-3,  35,   1,  13,  31,  16,  20,  28,   1,  19,  -6,  29,  38,31,   6,  22,  12,  -7,  15,  11,  31,  24,   7,  -6,  38,  27,-8,  12,   9,  -9,  23,   9,  15,  19,  31,  38,  22,  38,  11,5,  18,   0,  39,  38,  30,  -3,  31,  -8,  15,  25,   9,  -8,34,  -7,  26,   3,  24,  22,  30,   4,  35,  39,   9,  -1,   6,27,  38,  -3,  28,   8,   4,  39,  20,  35,  23, -10,  29,  10,1,  20,  24,  33,  35,  18,   9,  20,  19, -10,  17,  -6,  -3,31,  15,  34,   7,   8,  30,  -8,  15,  36,  30,  34,  10,  -4,27,  -8,  34,   2,   3,  13,  21,  24,  24,  39,   3,  32,  -5,28,  23,  10,   3,  36,  -8,  17,  17,  36,  13,  24,   5,  10,11,  14,  -4,  23,  26,  11,  12,  11,   0,  27,  32, -10,  -2,30,   5,  27,   3,  34,   1,  24,   9,  -6,  20,  34,  20,  12,2,  24,   3,  -6,  35,  19,  -2,  23,  18, -10,  19,  -1,  36,9,   7,  -9,  21,  27,  -9,  19,  10,   5,  -8,  22,  13]\n",
    "print(len(thousand_temps))"
   ]
  },
  {
   "cell_type": "markdown",
   "metadata": {},
   "source": [
    "Let's import the module you just created and use the `count_temps` function on this big list."
   ]
  },
  {
   "cell_type": "code",
   "execution_count": 40,
   "metadata": {},
   "outputs": [
    {
     "ename": "ModuleNotFoundError",
     "evalue": "No module named 'my_function'",
     "output_type": "error",
     "traceback": [
      "\u001b[1;31m---------------------------------------------------------------------------\u001b[0m",
      "\u001b[1;31mModuleNotFoundError\u001b[0m                       Traceback (most recent call last)",
      "Cell \u001b[1;32mIn[40], line 2\u001b[0m\n\u001b[0;32m      1\u001b[0m \u001b[38;5;66;03m# The module my_function will now be imported (make sure it is located in the same folder as this notebook)\u001b[39;00m\n\u001b[1;32m----> 2\u001b[0m \u001b[38;5;28;01mimport\u001b[39;00m \u001b[38;5;21;01mmy_function\u001b[39;00m\n\u001b[0;32m      4\u001b[0m my_function\u001b[38;5;241m.\u001b[39mcount_temps(thousand_temps)\n",
      "\u001b[1;31mModuleNotFoundError\u001b[0m: No module named 'my_function'"
     ]
    }
   ],
   "source": [
    "# The module my_function will now be imported (make sure it is located in the same folder as this notebook)\n",
    "import my_function\n",
    "\n",
    "my_function.count_temps(thousand_temps)"
   ]
  },
  {
   "cell_type": "code",
   "execution_count": 23,
   "metadata": {
    "scrolled": false
   },
   "outputs": [
    {
     "ename": "ModuleNotFoundError",
     "evalue": "No module named 'my_function'",
     "output_type": "error",
     "traceback": [
      "\u001b[1;31m---------------------------------------------------------------------------\u001b[0m",
      "\u001b[1;31mModuleNotFoundError\u001b[0m                       Traceback (most recent call last)",
      "Cell \u001b[1;32mIn[23], line 2\u001b[0m\n\u001b[0;32m      1\u001b[0m \u001b[38;5;66;03m# You can also rename a module when you import it in Python and call the function inside the module.\u001b[39;00m\n\u001b[1;32m----> 2\u001b[0m \u001b[38;5;28;01mimport\u001b[39;00m \u001b[38;5;21;01mmy_function\u001b[39;00m \u001b[38;5;28;01mas\u001b[39;00m \u001b[38;5;21;01mmf\u001b[39;00m\n\u001b[0;32m      4\u001b[0m \u001b[38;5;28mprint\u001b[39m(mf\u001b[38;5;241m.\u001b[39mcount_temps([\u001b[38;5;241m-\u001b[39m\u001b[38;5;241m11\u001b[39m, \u001b[38;5;241m-\u001b[39m\u001b[38;5;241m3\u001b[39m, \u001b[38;5;241m5\u001b[39m, \u001b[38;5;241m35\u001b[39m, \u001b[38;5;241m18\u001b[39m, \u001b[38;5;241m44\u001b[39m]))\n\u001b[0;32m      5\u001b[0m \u001b[38;5;28mprint\u001b[39m(mf\u001b[38;5;241m.\u001b[39mcount_temps(thousand_temps[\u001b[38;5;241m0\u001b[39m:\u001b[38;5;241m500\u001b[39m]))\n",
      "\u001b[1;31mModuleNotFoundError\u001b[0m: No module named 'my_function'"
     ]
    }
   ],
   "source": [
    "# You can also rename a module when you import it in Python and call the function inside the module.\n",
    "import my_function as mf\n",
    "\n",
    "print(mf.count_temps([-11, -3, 5, 35, 18, 44]))\n",
    "print(mf.count_temps(thousand_temps[0:500]))"
   ]
  },
  {
   "attachments": {
    "image-2.png": {
     "image/png": "[encoded data removed]"
    }
   },
   "cell_type": "markdown",
   "metadata": {},
   "source": [
    "# Numpy\n",
    "- Python contains many modules (here is a long list with examples: https://docs.python.org/3/library/index.html)\n",
    "- One important module (or package) is **numpy**\n",
    "- Numpy is the abbreviation of numerical python and is very useful for working with numerical data\n",
    "- To use this package (or any package), you always need to import it first, using `import numpy as np`\n",
    "    - If you forget to import numpy,  you will get this error:\n",
    "    ![image-2.png](attachment:image-2.png)\n"
   ]
  },
  {
   "cell_type": "code",
   "execution_count": 26,
   "metadata": {},
   "outputs": [],
   "source": [
    "import numpy as np"
   ]
  },
  {
   "cell_type": "markdown",
   "metadata": {},
   "source": [
    "With numpy we can do mathematical operations. Here are some examples:"
   ]
  },
  {
   "cell_type": "code",
   "execution_count": 27,
   "metadata": {
    "scrolled": true
   },
   "outputs": [
    {
     "name": "stdout",
     "output_type": "stream",
     "text": [
      "2.0\n",
      "7.0\n",
      "12\n",
      "20\n"
     ]
    }
   ],
   "source": [
    "print(np.log10(100))     #prints log10(100)\n",
    "print(np.sqrt(49))       #prints the square root of 49\n",
    "print(np.abs(-12))       #prints the absolute value of -12\n",
    "print(np.multiply(5, 4)) #prints 5 multiplied by 4"
   ]
  },
  {
   "cell_type": "markdown",
   "metadata": {},
   "source": [
    "Another useful thing that numpy can be used for is creating random numbers:"
   ]
  },
  {
   "cell_type": "code",
   "execution_count": 28,
   "metadata": {
    "scrolled": true
   },
   "outputs": [
    {
     "name": "stdout",
     "output_type": "stream",
     "text": [
      "0\n",
      "0\n",
      "3\n",
      "[ 3 10  9  8  4 12 10  0  5 13]\n"
     ]
    }
   ],
   "source": [
    "print(np.random.randint(0, 5))      #prints a random integer between 0 and 5\n",
    "print(np.random.randint(0, 10))     #prints a random integer between 0 and 10\n",
    "print(np.random.randint(0, 15))     #prints a random integer between 0 and 15\n",
    "print(np.random.randint(0, 15, 10)) #prints 10 random integers between 0 and 15"
   ]
  },
  {
   "cell_type": "markdown",
   "metadata": {},
   "source": [
    "# Numpy Math and Numpy Random - Exercises"
   ]
  },
  {
   "cell_type": "markdown",
   "metadata": {},
   "source": [
    "Use the numpy package and find the solutions to the following:\n",
    "\n",
    "1. Square root of 10\n",
    "2. Absolute value of -5.1\n",
    "3. 2 to the power of 10\n",
    "4. Use the `np.random` module to generate a random number between 0 and 1\n",
    "5. Use the `np.random` moduel to generate a list of 100 numbers, ranging between -1 and 1\n"
   ]
  },
  {
   "cell_type": "code",
   "execution_count": 21,
   "metadata": {},
   "outputs": [
    {
     "data": {
      "text/plain": [
       "3.1622776601683795"
      ]
     },
     "execution_count": 21,
     "metadata": {},
     "output_type": "execute_result"
    }
   ],
   "source": [
    "# 1. Square root of 10\n",
    "np.sqrt(10)"
   ]
  },
  {
   "cell_type": "code",
   "execution_count": 22,
   "metadata": {},
   "outputs": [
    {
     "data": {
      "text/plain": [
       "5.1"
      ]
     },
     "execution_count": 22,
     "metadata": {},
     "output_type": "execute_result"
    }
   ],
   "source": [
    "# 2. Absolute value of -5.1\n",
    "np.abs(-5.1)\n"
   ]
  },
  {
   "cell_type": "code",
   "execution_count": 25,
   "metadata": {},
   "outputs": [
    {
     "data": {
      "text/plain": [
       "1024"
      ]
     },
     "execution_count": 25,
     "metadata": {},
     "output_type": "execute_result"
    }
   ],
   "source": [
    "# 3. 2 to the power of 10\n",
    "np.power(2,10)"
   ]
  },
  {
   "cell_type": "code",
   "execution_count": 30,
   "metadata": {},
   "outputs": [
    {
     "data": {
      "text/plain": [
       "0"
      ]
     },
     "execution_count": 30,
     "metadata": {},
     "output_type": "execute_result"
    }
   ],
   "source": [
    "# 4. Use the np.random module to generate a random number between 0 and 1\n",
    "np.random.randint(0,1)"
   ]
  },
  {
   "cell_type": "code",
   "execution_count": 31,
   "metadata": {},
   "outputs": [
    {
     "data": {
      "text/plain": [
       "array([ 0,  0,  0, -1, -1,  0, -1, -1, -1, -1,  0, -1,  0,  0,  0,  0, -1,\n",
       "        0, -1, -1, -1,  0,  0, -1, -1, -1, -1, -1, -1, -1, -1,  0, -1,  0,\n",
       "        0, -1,  0, -1,  0,  0, -1,  0,  0, -1, -1,  0,  0, -1, -1, -1,  0,\n",
       "        0, -1, -1, -1,  0,  0,  0,  0,  0, -1, -1, -1, -1,  0,  0, -1, -1,\n",
       "        0, -1,  0,  0,  0,  0, -1, -1, -1, -1,  0,  0,  0, -1, -1, -1,  0,\n",
       "        0,  0,  0,  0,  0,  0,  0, -1,  0, -1,  0,  0,  0, -1,  0])"
      ]
     },
     "execution_count": 31,
     "metadata": {},
     "output_type": "execute_result"
    }
   ],
   "source": [
    "# 5. Use the np.random moduel to generate a list of 100 numbers, ranging between -1 and 1\n",
    "np.random.randint(-1,1,100)\n"
   ]
  },
  {
   "cell_type": "markdown",
   "metadata": {},
   "source": [
    "# Numpy Arrays\n",
    "\n",
    "- A numpy array is a collection of data (just like lists and dictionaries)\n",
    "- A numpy array can be created by turning some other collection into an array with the method `np.array()`\n",
    "    - For example, `np.array([1, 2, 3, 4])` will change the list `[1, 2, 3, 4]` into a numpy array\n",
    "- A numpy array can be accessed just like strings and lists, by using square brackets and index `[ ]`"
   ]
  },
  {
   "cell_type": "code",
   "execution_count": 33,
   "metadata": {},
   "outputs": [
    {
     "name": "stdout",
     "output_type": "stream",
     "text": [
      "[1, 2, 3, 4, 5, 6]\n",
      "[1 2 3 4 5 6]\n"
     ]
    }
   ],
   "source": [
    "# Here is my_list\n",
    "my_list = [1, 2, 3, 4, 5, 6]\n",
    "print(my_list)\n",
    "\n",
    "# Let's change this list into a numpy array and save it into a variable\n",
    "my_array = np.array(my_list)\n",
    "print(my_array)"
   ]
  },
  {
   "cell_type": "code",
   "execution_count": 34,
   "metadata": {},
   "outputs": [
    {
     "name": "stdout",
     "output_type": "stream",
     "text": [
      "2\n",
      "5\n",
      "[3 4 5]\n"
     ]
    }
   ],
   "source": [
    "# The values inside the np.array can be accessed using square brackets\n",
    "print(my_array[1])\n",
    "print(my_array[4])\n",
    "\n",
    "# Slicing (selecting multiple values) also works\n",
    "print(my_array[2:5])"
   ]
  },
  {
   "cell_type": "markdown",
   "metadata": {},
   "source": [
    "- With an array, you can conduct mathematical operations to all elements at the same time: \n",
    "\n",
    "    - `np.array([1, 2, 3, 4]) * 3` gives `np.array([3, 6, 9, 12])` (every element is multiplied by 3)\n",
    "- This is different from a list, where `[1, 2, 3, 4] * 3` results in `[1, 2, 3, 4, 1, 2, 3, 4, 1, 2, 3, 4]`"
   ]
  },
  {
   "cell_type": "code",
   "execution_count": 35,
   "metadata": {},
   "outputs": [
    {
     "name": "stdout",
     "output_type": "stream",
     "text": [
      "[ 3  6  9 12]\n",
      "[1, 2, 3, 4, 1, 2, 3, 4, 1, 2, 3, 4]\n"
     ]
    }
   ],
   "source": [
    "# Multiplying a np.array\n",
    "print(np.array([1, 2, 3, 4]) * 3)\n",
    "\n",
    "# Multiplying a list\n",
    "print([1, 2, 3, 4] * 3)"
   ]
  },
  {
   "cell_type": "code",
   "execution_count": 36,
   "metadata": {},
   "outputs": [
    {
     "name": "stdout",
     "output_type": "stream",
     "text": [
      "[4 5 6 7]\n"
     ]
    },
    {
     "ename": "TypeError",
     "evalue": "can only concatenate list (not \"int\") to list",
     "output_type": "error",
     "traceback": [
      "\u001b[1;31m---------------------------------------------------------------------------\u001b[0m",
      "\u001b[1;31mTypeError\u001b[0m                                 Traceback (most recent call last)",
      "Cell \u001b[1;32mIn[36], line 5\u001b[0m\n\u001b[0;32m      2\u001b[0m \u001b[38;5;28mprint\u001b[39m(np\u001b[38;5;241m.\u001b[39marray([\u001b[38;5;241m1\u001b[39m, \u001b[38;5;241m2\u001b[39m, \u001b[38;5;241m3\u001b[39m, \u001b[38;5;241m4\u001b[39m]) \u001b[38;5;241m+\u001b[39m \u001b[38;5;241m3\u001b[39m)\n\u001b[0;32m      4\u001b[0m \u001b[38;5;66;03m# Trying this with a list gives an error\u001b[39;00m\n\u001b[1;32m----> 5\u001b[0m \u001b[38;5;28mprint\u001b[39m([\u001b[38;5;241m1\u001b[39m, \u001b[38;5;241m2\u001b[39m, \u001b[38;5;241m3\u001b[39m, \u001b[38;5;241m4\u001b[39m] \u001b[38;5;241m+\u001b[39m \u001b[38;5;241m3\u001b[39m)\n",
      "\u001b[1;31mTypeError\u001b[0m: can only concatenate list (not \"int\") to list"
     ]
    }
   ],
   "source": [
    "# Adding 3 to every value in a np.array\n",
    "print(np.array([1, 2, 3, 4]) + 3)\n",
    "\n",
    "# Trying this with a list gives an error\n",
    "print([1, 2, 3, 4] + 3)"
   ]
  },
  {
   "cell_type": "code",
   "execution_count": 18,
   "metadata": {},
   "outputs": [
    {
     "ename": "NameError",
     "evalue": "name 'np' is not defined",
     "output_type": "error",
     "traceback": [
      "\u001b[1;31m---------------------------------------------------------------------------\u001b[0m",
      "\u001b[1;31mNameError\u001b[0m                                 Traceback (most recent call last)",
      "Cell \u001b[1;32mIn[18], line 2\u001b[0m\n\u001b[0;32m      1\u001b[0m \u001b[38;5;66;03m# Some more examples\u001b[39;00m\n\u001b[1;32m----> 2\u001b[0m \u001b[38;5;28mprint\u001b[39m(np\u001b[38;5;241m.\u001b[39marray([\u001b[38;5;241m10\u001b[39m, \u001b[38;5;241m20\u001b[39m, \u001b[38;5;241m30\u001b[39m]) \u001b[38;5;241m/\u001b[39m \u001b[38;5;241m5\u001b[39m)\n\u001b[0;32m      3\u001b[0m \u001b[38;5;28mprint\u001b[39m(np\u001b[38;5;241m.\u001b[39marray([\u001b[38;5;241m10\u001b[39m, \u001b[38;5;241m20\u001b[39m, \u001b[38;5;241m30\u001b[39m]) \u001b[38;5;241m*\u001b[39m\u001b[38;5;241m*\u001b[39m \u001b[38;5;241m2\u001b[39m)\n\u001b[0;32m      5\u001b[0m \u001b[38;5;28mprint\u001b[39m(np\u001b[38;5;241m.\u001b[39marray([\u001b[38;5;241m4\u001b[39m, \u001b[38;5;241m7\u001b[39m, \u001b[38;5;241m8\u001b[39m, \u001b[38;5;241m8\u001b[39m, \u001b[38;5;241m6\u001b[39m, \u001b[38;5;241m5\u001b[39m, \u001b[38;5;241m3\u001b[39m, \u001b[38;5;241m1\u001b[39m]) \u001b[38;5;241m%\u001b[39m \u001b[38;5;241m2\u001b[39m)\n",
      "\u001b[1;31mNameError\u001b[0m: name 'np' is not defined"
     ]
    }
   ],
   "source": [
    "# Some more examples\n",
    "print(np.array([10, 20, 30]) / 5)\n",
    "print(np.array([10, 20, 30]) ** 2)\n",
    "\n",
    "print(np.array([4, 7, 8, 8, 6, 5, 3, 1]) % 2)   # Checking if values are odd/even"
   ]
  },
  {
   "cell_type": "markdown",
   "metadata": {},
   "source": [
    "# Numpy Arrays - Exercises\n",
    "\n",
    "1. Create a numpy array using `range(20)` as input and name the variable `my_array`\n",
    "2. Select the first 10 values from `my_array` using slicing **and save this into a new variable** (hint: create a new variable like this, `new_variable = ...`)\n",
    "3. Multiply the values in this new variable by 5\n",
    "4. Print the last value of the array"
   ]
  },
  {
   "cell_type": "code",
   "execution_count": 30,
   "metadata": {},
   "outputs": [],
   "source": [
    "import numpy as np"
   ]
  },
  {
   "cell_type": "code",
   "execution_count": 31,
   "metadata": {},
   "outputs": [],
   "source": [
    "# 1. Create a numpy array using range(20) as input and name the variable my_array\n",
    "my_array= np.array (range(20))"
   ]
  },
  {
   "cell_type": "code",
   "execution_count": 35,
   "metadata": {},
   "outputs": [],
   "source": [
    "# 2. Select the first 10 values from my_array using slicing and save this into a new variable\n",
    "new_variable=np.array(my_array[0:10])\n"
   ]
  },
  {
   "cell_type": "code",
   "execution_count": 36,
   "metadata": {},
   "outputs": [],
   "source": [
    "# 3. Multiply the values in this new variable by 5\n",
    "new_variable=np.array(my_array[0:10])*5"
   ]
  },
  {
   "cell_type": "code",
   "execution_count": 37,
   "metadata": {},
   "outputs": [
    {
     "name": "stdout",
     "output_type": "stream",
     "text": [
      "[ 0  5 10 15 20 25 30 35 40 45]\n"
     ]
    }
   ],
   "source": [
    "# 4. Print the last value of the array\n",
    "print(np.array(new_variable))\n"
   ]
  },
  {
   "cell_type": "markdown",
   "metadata": {},
   "source": [
    "# Boolean slicing\n",
    "\n",
    "With numpy arrays you can also slice by using booleans (lists or arrays containing `True` and `False`). And booleans can be created by using conditional statements. \n",
    "\n",
    "For example, if you want to select all values larger than 5 from `arrayX = np.array([1, 2, 3, 4, 5, 6, 7, 8, 9])` you can create a boolean array using `arrayX > 5` resulting in the boolean array `array([False, False, False, False, False,  True,  True,  True,  True])`. This boolean array can be used to select only the values that are larger than 5 like this: `arrayX[arrayX > 5]`, resulting in this: `array([6, 7, 8, 9])`.\n",
    "\n",
    "Here are some examples. Read them carefully and try to understand what is happening."
   ]
  },
  {
   "cell_type": "code",
   "execution_count": 39,
   "metadata": {},
   "outputs": [
    {
     "name": "stdout",
     "output_type": "stream",
     "text": [
      "[1 2 3 4]\n"
     ]
    }
   ],
   "source": [
    "# Create a simple array\n",
    "array1 = np.array([1, 2, 3, 4])\n",
    "print(array1)"
   ]
  },
  {
   "cell_type": "code",
   "execution_count": 40,
   "metadata": {},
   "outputs": [
    {
     "name": "stdout",
     "output_type": "stream",
     "text": [
      "1\n",
      "[3 4]\n"
     ]
    }
   ],
   "source": [
    "# We can select values from the array using slicing with numbers\n",
    "print(array1[0])    # Only the first value\n",
    "print(array1[2:4])  # The last two values"
   ]
  },
  {
   "cell_type": "code",
   "execution_count": 41,
   "metadata": {},
   "outputs": [
    {
     "name": "stdout",
     "output_type": "stream",
     "text": [
      "[1 3]\n"
     ]
    }
   ],
   "source": [
    "# However, we can also select values using booleans\n",
    "print(array1[[True, False, True, False]])"
   ]
  },
  {
   "cell_type": "code",
   "execution_count": 48,
   "metadata": {},
   "outputs": [
    {
     "name": "stdout",
     "output_type": "stream",
     "text": [
      "[False False  True  True]\n",
      "[3 4]\n"
     ]
    }
   ],
   "source": [
    "# Let's create a simple boolean array\n",
    "# True if the value is larger than 2, and False if the value is smaller or equal to 2\n",
    "boolean_array = array1 > 2\n",
    "print(boolean_array)\n",
    "\n",
    "# And use this boolean to select the values from the array\n",
    "print(array1[boolean_array])"
   ]
  },
  {
   "cell_type": "code",
   "execution_count": 49,
   "metadata": {},
   "outputs": [
    {
     "name": "stdout",
     "output_type": "stream",
     "text": [
      "[7 6 2 8 1 9 5 1 0 1 9 1 0 8 2 5 4 0 2 7 5 9 0 1 5 7 6 7 9 3 6 3 2 5 5 2 7\n",
      " 2 8 2 6 3 3 2 9 9 7 5 3 0]\n"
     ]
    }
   ],
   "source": [
    "# Here is another example\n",
    "large_array = np.random.randint(0, 10, 50)\n",
    "print(large_array)"
   ]
  },
  {
   "cell_type": "code",
   "execution_count": 50,
   "metadata": {},
   "outputs": [
    {
     "name": "stdout",
     "output_type": "stream",
     "text": [
      "[7 2 8 9 1 0 1 1 0 2 5 0 2 7 9 0 1 7 3 2 8 2 6 3 0]\n",
      "[False False False  True False  True False False False False  True False\n",
      " False  True False False False False False False False  True False False\n",
      " False False False False  True False False False False False False False\n",
      " False False  True False False False False False  True  True False False\n",
      " False False]\n",
      "[8 9 9 8 9 9 8 9 9]\n",
      "[8 9 9 8 9 9 8 9 9]\n"
     ]
    }
   ],
   "source": [
    "# Selecting values using booleans\n",
    "\n",
    "# Boolean slicing using typed out booleans\n",
    "print(large_array[[True, False, True, True, False, True, False, True, True, True, False, True, True, False, True, True, False, True, True, True, False, True, True, True, False, False, False, True, False, False, False, True, False, False, False, True, False, False, True, True, True, False, False, False, False, False, False, False, True, True]])\n",
    "\n",
    "# Create a new boolean array where values larger than 7 are True\n",
    "large_boolean_array = large_array > 7\n",
    "print(large_boolean_array)\n",
    "\n",
    "# Use this boolean array to select values from large_array\n",
    "high_values = large_array[large_boolean_array]\n",
    "print(high_values)\n",
    "\n",
    "# It can be done even shorter, by creating the boolean array inside the square brackets\n",
    "print(large_array[large_array > 7])"
   ]
  },
  {
   "cell_type": "code",
   "execution_count": null,
   "metadata": {
    "scrolled": false
   },
   "outputs": [],
   "source": [
    "# Even more examples\n",
    "temperatures = np.array([33.2, 35.3, 35.5, 29.9, 23.4, 40.1, 31.1, 27.1, 38.8])\n",
    "\n",
    "print(temperatures > 30) # Gives a boolean array with values higher than 30 being True\n",
    "\n",
    "print(temperatures[temperatures > 25]) # Selects only temperatures higher than 25\n",
    "print(temperatures[temperatures > 30]) # Selects only temperatures higher than 30\n",
    "print(temperatures[temperatures > 35]) # Selects only temperatures higher than 35\n",
    "print(temperatures[temperatures > 40]) # Selects only temperatures higher than 40"
   ]
  },
  {
   "cell_type": "markdown",
   "metadata": {},
   "source": [
    "You can also combine conditions by using `&` and placing the different parts between brackets\n",
    "\n",
    "```python\n",
    "example = np.array([1, 2, 3, 4, 5, 6, 7, 8, 9, 10])\n",
    "\n",
    "example[(example > 2) & (example < 7)]\n",
    "```\n",
    "\n",
    "Output: \n",
    "```python\n",
    "array([3, 4, 5, 6])\n",
    "```"
   ]
  },
  {
   "cell_type": "code",
   "execution_count": 51,
   "metadata": {},
   "outputs": [
    {
     "name": "stdout",
     "output_type": "stream",
     "text": [
      "[ 2  4  6  8 10 12 14 16 18 20 22 24 26 28 30]\n",
      "[12 14 16 18]\n"
     ]
    }
   ],
   "source": [
    "# You can also combine conditions by using & and placing the different parts between brackets\n",
    "increasing = np.array([2, 4, 6, 8, 10, 12, 14, 16, 18, 20, 22, 24, 26, 28, 30])\n",
    "print(increasing)\n",
    "\n",
    "print(increasing[(increasing > 10) & (increasing < 20)])\n"
   ]
  },
  {
   "cell_type": "markdown",
   "metadata": {},
   "source": [
    "# Boolean slicing - Exercises\n",
    "\n",
    "For `array2`:\n",
    "1. Select all values larger than 225.\n",
    "2. Select all values smaller than 100.\n",
    "3. Select all even integers (hint: use `% 2 == 0`).\n",
    "4. Select all values between 100 and 200 (hint: you can combine conditions by using `&`).\n",
    "5. Select all even values smaller or equal to 60 (hint: you can combine conditions by using `&`)."
   ]
  },
  {
   "cell_type": "code",
   "execution_count": 57,
   "metadata": {},
   "outputs": [],
   "source": [
    "array2 = np.arange(0, 313, 2.4)"
   ]
  },
  {
   "cell_type": "code",
   "execution_count": 66,
   "metadata": {},
   "outputs": [
    {
     "name": "stdout",
     "output_type": "stream",
     "text": [
      "[225.6 228.  230.4 232.8 235.2 237.6 240.  242.4 244.8 247.2 249.6 252.\n",
      " 254.4 256.8 259.2 261.6 264.  266.4 268.8 271.2 273.6 276.  278.4 280.8\n",
      " 283.2 285.6 288.  290.4 292.8 295.2 297.6 300.  302.4 304.8 307.2 309.6\n",
      " 312. ]\n"
     ]
    }
   ],
   "source": [
    "# 1. Select all values larger than 225.\n",
    "print(array2[array2>225])"
   ]
  },
  {
   "cell_type": "code",
   "execution_count": 67,
   "metadata": {},
   "outputs": [
    {
     "name": "stdout",
     "output_type": "stream",
     "text": [
      "[False False False False False False False False False False False False\n",
      " False False False False False False False False False False False False\n",
      " False False False False False False False False False False False False\n",
      " False False False False False False False False False False False False\n",
      " False False False False False False False False False False False False\n",
      " False False False False False False False False False False False False\n",
      " False False False False False False False False False False False False\n",
      " False False False False False False False False False False  True  True\n",
      "  True  True  True  True  True  True  True  True  True  True  True  True\n",
      "  True  True  True  True  True  True  True  True  True  True  True  True\n",
      "  True  True  True  True  True  True  True  True  True  True  True]\n"
     ]
    }
   ],
   "source": [
    "print(array2>225)"
   ]
  },
  {
   "cell_type": "code",
   "execution_count": 68,
   "metadata": {},
   "outputs": [
    {
     "name": "stdout",
     "output_type": "stream",
     "text": [
      "[ 0.   2.4  4.8  7.2  9.6 12.  14.4 16.8 19.2 21.6 24.  26.4 28.8 31.2\n",
      " 33.6 36.  38.4 40.8 43.2 45.6 48.  50.4 52.8 55.2 57.6 60.  62.4 64.8\n",
      " 67.2 69.6 72.  74.4 76.8 79.2 81.6 84.  86.4 88.8 91.2 93.6 96.  98.4]\n"
     ]
    }
   ],
   "source": [
    "# 2. Select all values smaller than 100.\n",
    "print(array2[array2<100])\n"
   ]
  },
  {
   "cell_type": "code",
   "execution_count": null,
   "metadata": {},
   "outputs": [],
   "source": [
    "# 3. Select all even values (hint: use % 2 == 0).\n"
   ]
  },
  {
   "cell_type": "code",
   "execution_count": 80,
   "metadata": {},
   "outputs": [
    {
     "ename": "ValueError",
     "evalue": "The truth value of an array with more than one element is ambiguous. Use a.any() or a.all()",
     "output_type": "error",
     "traceback": [
      "\u001b[1;31m---------------------------------------------------------------------------\u001b[0m",
      "\u001b[1;31mValueError\u001b[0m                                Traceback (most recent call last)",
      "Cell \u001b[1;32mIn[80], line 2\u001b[0m\n\u001b[0;32m      1\u001b[0m \u001b[38;5;66;03m# 4. Select all values between 100 and 200.\u001b[39;00m\n\u001b[1;32m----> 2\u001b[0m \u001b[38;5;28mprint\u001b[39m(array2[(array2\u001b[38;5;241m>\u001b[39m\u001b[38;5;241m100\u001b[39m) \u001b[38;5;129;01mand\u001b[39;00m (array2\u001b[38;5;241m<\u001b[39m\u001b[38;5;241m200\u001b[39m)])\n",
      "\u001b[1;31mValueError\u001b[0m: The truth value of an array with more than one element is ambiguous. Use a.any() or a.all()"
     ]
    }
   ],
   "source": [
    "# 4. Select all values between 100 and 200.\n",
    "print(array2[(array2>100) and (array2<200)])\n"
   ]
  },
  {
   "cell_type": "code",
   "execution_count": null,
   "metadata": {},
   "outputs": [],
   "source": [
    "# 5. Select all even values smaller or equal to 60.\n"
   ]
  }
 ],
 "metadata": {
  "kernelspec": {
   "display_name": "Python 3 (ipykernel)",
   "language": "python",
   "name": "python3"
  },
  "language_info": {
   "codemirror_mode": {
    "name": "ipython",
    "version": 3
   },
   "file_extension": ".py",
   "mimetype": "text/x-python",
   "name": "python",
   "nbconvert_exporter": "python",
   "pygments_lexer": "ipython3",
   "version": "3.11.5"
  }
 },
 "nbformat": 4,
 "nbformat_minor": 1
}
