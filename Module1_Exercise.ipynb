{
 "cells": [
  {
   "cell_type": "markdown",
   "metadata": {},
   "source": [
    "# Print\n",
    "\n",
    "- If you want to communicate with a program, the first step is to let the computer speak. This is accomplished trough the ```print()``` function. A function is a program activity, for example the ```print()``` function prints words on your screen, there are many more.\n",
    "- Computers cannot see the difference between code and plain text, that is why you should always put plain text between ```\"\"``` to let the computer understand that it is not part of the code.\n",
    "    - For example: \n",
    "    ``` print (\"satellite\") ```. ```print``` is the function and part of the code, and ```\"satellite\"``` is the word that should be printed. \n",
    "    - Click on the cell below and press control + enter to execute the code"
   ]
  },
  {
   "cell_type": "markdown",
   "metadata": {},
   "source": [
    "exercise"
   ]
  },
  {
   "cell_type": "code",
   "execution_count": 1,
   "metadata": {},
   "outputs": [
    {
     "name": "stdout",
     "output_type": "stream",
     "text": [
      "satellite\n"
     ]
    }
   ],
   "source": [
    "print(\"satellite\")"
   ]
  },
  {
   "cell_type": "code",
   "execution_count": 2,
   "metadata": {},
   "outputs": [
    {
     "name": "stdout",
     "output_type": "stream",
     "text": [
      "Hello world!\n"
     ]
    }
   ],
   "source": [
    "print(\"Hello world!\")"
   ]
  },
  {
   "cell_type": "markdown",
   "metadata": {},
   "source": [
    "- Now try yourself to let the computer print the word rain"
   ]
  },
  {
   "cell_type": "code",
   "execution_count": 9,
   "metadata": {},
   "outputs": [
    {
     "name": "stdout",
     "output_type": "stream",
     "text": [
      "some word\n"
     ]
    }
   ],
   "source": [
    "print('some word')"
   ]
  },
  {
   "cell_type": "code",
   "execution_count": 3,
   "metadata": {},
   "outputs": [
    {
     "name": "stdout",
     "output_type": "stream",
     "text": [
      "irrigation\n"
     ]
    }
   ],
   "source": [
    "print(\"irrigation\")"
   ]
  },
  {
   "cell_type": "markdown",
   "metadata": {},
   "source": [
    "# Variables\n",
    "- Lets make a variable:\n",
    "    - A variable is an object in which information can be stored.\n",
    "    - The variable has a name and a value. The name is used to refer to the variable in the code\n",
    "    - The name of the variable can not contain spaces\n",
    "- In the next example the variable named ```first_name``` is assigned the value ```\"John\"```\n",
    "    - ```first_name``` is the name of the variable. The name of a variable is part of code and that is why it is not between ```\"\"```.\n",
    "    - ```\"John\"``` is written between ```\"\"``` to tell the computer that this is plain text"
   ]
  },
  {
   "cell_type": "code",
   "execution_count": 10,
   "metadata": {},
   "outputs": [
    {
     "data": {
      "text/plain": [
       "str"
      ]
     },
     "execution_count": 10,
     "metadata": {},
     "output_type": "execute_result"
    }
   ],
   "source": [
    "type('word')"
   ]
  },
  {
   "cell_type": "code",
   "execution_count": 5,
   "metadata": {},
   "outputs": [
    {
     "name": "stdout",
     "output_type": "stream",
     "text": [
      "John\n"
     ]
    }
   ],
   "source": [
    "first_name = \"John\"      # Assigns string \"John\" to variable first_name \n",
    "print(first_name)       # Prints variable first_name"
   ]
  },
  {
   "cell_type": "code",
   "execution_count": 4,
   "metadata": {},
   "outputs": [
    {
     "name": "stdout",
     "output_type": "stream",
     "text": [
      "John\n"
     ]
    }
   ],
   "source": [
    "some_variable = \"John\"       # Assigns string \"John\" to variable some_variable \n",
    "print(some_variable)        # Prints variable some_variable"
   ]
  },
  {
   "cell_type": "code",
   "execution_count": 3,
   "metadata": {},
   "outputs": [
    {
     "name": "stdout",
     "output_type": "stream",
     "text": [
      "John\n"
     ]
    }
   ],
   "source": [
    "apple = \"John\" # Assigns string \"John\" to variable apple \n",
    "print(apple) # Prints variable apple"
   ]
  },
  {
   "cell_type": "code",
   "execution_count": 2,
   "metadata": {},
   "outputs": [
    {
     "name": "stdout",
     "output_type": "stream",
     "text": [
      "John\n"
     ]
    }
   ],
   "source": [
    "john = \"John\" # Assigns string \"John\" to variable john\n",
    "print(john) # Prints variable john"
   ]
  },
  {
   "cell_type": "code",
   "execution_count": 1,
   "metadata": {},
   "outputs": [
    {
     "name": "stdout",
     "output_type": "stream",
     "text": [
      "John\n"
     ]
    }
   ],
   "source": [
    "xyz = \"John\" # Assigns string \"John\" to variable xyz\n",
    "print(xyz) # Prints variable xyz"
   ]
  },
  {
   "cell_type": "markdown",
   "metadata": {},
   "source": [
    "# Exercise:\n",
    "- Print your first name using a new variable. \n",
    "- Print your surname using a new variable. \n",
    "- Can you print both your first and surname using two variables?\n",
    "    - Hint: you can print multiple things by putting a ```+``` between them. \n",
    "    - For example \n",
    "        - ```print (\"mito\" + \"chondria\")``` \n",
    "        - The output is: `mitochondria`\n",
    "    - Try to play around until you get a feeling for it"
   ]
  },
  {
   "cell_type": "code",
   "execution_count": 13,
   "metadata": {},
   "outputs": [
    {
     "name": "stdout",
     "output_type": "stream",
     "text": [
      "chanako\n"
     ]
    }
   ],
   "source": [
    "my_name=\"chanako\"\n",
    "print(my_name)"
   ]
  },
  {
   "cell_type": "code",
   "execution_count": 15,
   "metadata": {},
   "outputs": [
    {
     "name": "stdout",
     "output_type": "stream",
     "text": [
      "chanako\n"
     ]
    }
   ],
   "source": [
    "WRIE= \"chanako\"\n",
    "print(WRIE)"
   ]
  },
  {
   "cell_type": "markdown",
   "metadata": {},
   "source": [
    "# Strings - methods \n",
    "- All variable types have build in methods to manipulate them. \n",
    "- A method is placed after the variable with a ```.``` between them and nearly always end with ```()```\n",
    "- For example: \n",
    "    ```python\n",
    "      name = \"john\" \n",
    "      print(name.upper())\n",
    "    ```\n",
    "- For some methods additional information has to be provided, this information is given between the ```()```.\n",
    "    - For example, ```name.startswith(\"j\")``` says if the name starts with a `j`, and ```name.replace(\"o\", \"a\")``` replaces all `o`'s with `a`'s."
   ]
  },
  {
   "cell_type": "code",
   "execution_count": 7,
   "metadata": {},
   "outputs": [
    {
     "name": "stdout",
     "output_type": "stream",
     "text": [
      "CHANAKO\n"
     ]
    }
   ],
   "source": [
    "name=\"chanako\"\n",
    "print(name.upper())"
   ]
  },
  {
   "cell_type": "code",
   "execution_count": 23,
   "metadata": {},
   "outputs": [
    {
     "name": "stdout",
     "output_type": "stream",
     "text": [
      "chanako\n"
     ]
    }
   ],
   "source": [
    "print(name.lower())"
   ]
  },
  {
   "cell_type": "code",
   "execution_count": 8,
   "metadata": {},
   "outputs": [
    {
     "name": "stdout",
     "output_type": "stream",
     "text": [
      "CHANAKO\n"
     ]
    }
   ],
   "source": [
    "print(name.upper())            #prints the variable in uppercase"
   ]
  },
  {
   "cell_type": "code",
   "execution_count": 9,
   "metadata": {},
   "outputs": [
    {
     "name": "stdout",
     "output_type": "stream",
     "text": [
      "chanako\n"
     ]
    }
   ],
   "source": [
    "print(name.lower())            #prints the variable in lowercase"
   ]
  },
  {
   "cell_type": "code",
   "execution_count": 10,
   "metadata": {},
   "outputs": [
    {
     "name": "stdout",
     "output_type": "stream",
     "text": [
      "Chanako\n"
     ]
    }
   ],
   "source": [
    "print(name.capitalize())         #prints the variable with a captial"
   ]
  },
  {
   "cell_type": "code",
   "execution_count": 11,
   "metadata": {},
   "outputs": [
    {
     "name": "stdout",
     "output_type": "stream",
     "text": [
      "True\n"
     ]
    }
   ],
   "source": [
    "print(name.islower())         #checks if the variable is lowercase"
   ]
  },
  {
   "cell_type": "code",
   "execution_count": 13,
   "metadata": {},
   "outputs": [
    {
     "name": "stdout",
     "output_type": "stream",
     "text": [
      "False\n"
     ]
    }
   ],
   "source": [
    "print(name.startswith('C'))         #checks if the variable starts with a C# because it start with small letter c"
   ]
  },
  {
   "cell_type": "code",
   "execution_count": 14,
   "metadata": {},
   "outputs": [
    {
     "name": "stdout",
     "output_type": "stream",
     "text": [
      "False\n"
     ]
    }
   ],
   "source": [
    "print(name.startswith('J'))         #checks if the variable starts with a J"
   ]
  },
  {
   "cell_type": "code",
   "execution_count": 15,
   "metadata": {},
   "outputs": [
    {
     "name": "stdout",
     "output_type": "stream",
     "text": [
      "chaqako\n"
     ]
    }
   ],
   "source": [
    "print(name.replace(\"n\", \"q\"))  #replaces the n's with q's"
   ]
  },
  {
   "cell_type": "code",
   "execution_count": 16,
   "metadata": {},
   "outputs": [
    {
     "name": "stdout",
     "output_type": "stream",
     "text": [
      "canako\n"
     ]
    }
   ],
   "source": [
    "print(name.replace(\"h\", \"\"))    #replaces all the h's with nothing, removing the letter"
   ]
  },
  {
   "cell_type": "code",
   "execution_count": 17,
   "metadata": {},
   "outputs": [],
   "source": [
    "superman = \"Chanako\"           #assigns the string \"Chanako\" to variable superman"
   ]
  },
  {
   "cell_type": "code",
   "execution_count": 18,
   "metadata": {},
   "outputs": [
    {
     "name": "stdout",
     "output_type": "stream",
     "text": [
      "CHANAKO\n"
     ]
    }
   ],
   "source": [
    "print(superman.upper())            #prints the variable in uppercase"
   ]
  },
  {
   "cell_type": "code",
   "execution_count": 23,
   "metadata": {},
   "outputs": [],
   "source": [
    "#you can also assign the result of these methods into a variable instead of printing.\n",
    "#for example\n",
    "name_uppercase = name.upper()\n",
    "name_lowercase = name.lower()"
   ]
  },
  {
   "cell_type": "code",
   "execution_count": 24,
   "metadata": {
    "scrolled": true
   },
   "outputs": [
    {
     "name": "stdout",
     "output_type": "stream",
     "text": [
      "CHANAKO\n"
     ]
    }
   ],
   "source": [
    "print(name_uppercase)"
   ]
  },
  {
   "cell_type": "code",
   "execution_count": 25,
   "metadata": {},
   "outputs": [
    {
     "name": "stdout",
     "output_type": "stream",
     "text": [
      "chdndka\n"
     ]
    }
   ],
   "source": [
    "print(name_lowercase.replace(\"a\", \"d\").replace(\"o\", \"a\"))"
   ]
  },
  {
   "cell_type": "markdown",
   "metadata": {},
   "source": [
    "## Python tricks\n",
    "1. A convenient tool to use in Python is the __tab__ to quickly scroll through options/saved variables etc. Try it out!\n",
    "2. Another useful option in Python, is the Kernel refresh option. Sometimes, on the left of the cell an asterix appears; if this happens, it means that Python is busy running your script. \n",
    "Sometimes however it gets stuck, then its best to refresh, either the output of the cell (**cell > current output > clear**) or the whole kernel (**kernel > restart & clear output**)"
   ]
  },
  {
   "cell_type": "markdown",
   "metadata": {},
   "source": [
    "# Comments\n",
    "- Comments start with # \n",
    "- Useful for: \n",
    "    - Explaining code or your program \n",
    "    - Disable parts of your program "
   ]
  },
  {
   "cell_type": "code",
   "execution_count": 26,
   "metadata": {},
   "outputs": [
    {
     "name": "stdout",
     "output_type": "stream",
     "text": [
      "Comment example script\n",
      "This will print\n"
     ]
    }
   ],
   "source": [
    "# This is an example script using comments\n",
    "print (\"Comment example script\")\n",
    "# print \"This will not print\"\n",
    "print (\"This will print\")"
   ]
  },
  {
   "cell_type": "markdown",
   "metadata": {},
   "source": [
    "## Exercise:\n",
    "1. Assign a variable with a name of your favourite city\n",
    "2. Print this variable in uppercase.\n",
    "3. Check if the city starts with the letter 'A'\n",
    "4. Replace a letter in the name of the city with \"d\""
   ]
  },
  {
   "cell_type": "code",
   "execution_count": 27,
   "metadata": {},
   "outputs": [
    {
     "name": "stdout",
     "output_type": "stream",
     "text": [
      "hawassa\n"
     ]
    }
   ],
   "source": [
    "# 1.Assign a variable with a name of your favourite city\n",
    "city=\"hawassa\"\n",
    "print(city)"
   ]
  },
  {
   "cell_type": "code",
   "execution_count": 28,
   "metadata": {},
   "outputs": [
    {
     "name": "stdout",
     "output_type": "stream",
     "text": [
      "HAWASSA\n"
     ]
    }
   ],
   "source": [
    "# 2.Print this variable in uppercase.\n",
    "print(city.upper())"
   ]
  },
  {
   "cell_type": "code",
   "execution_count": 30,
   "metadata": {},
   "outputs": [
    {
     "name": "stdout",
     "output_type": "stream",
     "text": [
      "False\n"
     ]
    }
   ],
   "source": [
    "# 3.Check if the city starts with the letter 'A'\n",
    "print(city.startswith('A'))"
   ]
  },
  {
   "cell_type": "code",
   "execution_count": 35,
   "metadata": {},
   "outputs": [
    {
     "name": "stdout",
     "output_type": "stream",
     "text": [
      "d\n"
     ]
    }
   ],
   "source": [
    "# 4.Replace a letter in the name of the city with \"d\"\n",
    "print(city.replace(\"hawassa\",\"d\"))"
   ]
  },
  {
   "cell_type": "markdown",
   "metadata": {},
   "source": [
    "## Exercise: Strings – Methods\n",
    "\n",
    "   1. Create a variable containing a random string of letters in lower-case, e.g., \"fjeioapeafjeioapfneklwfeafsajoi\".\n",
    "   2. Print the letters in uppercase \n",
    "   3. Replace all a's with b's and assign the result to a variable\n",
    "   4. Print this variable"
   ]
  },
  {
   "cell_type": "code",
   "execution_count": 38,
   "metadata": {},
   "outputs": [],
   "source": [
    "# 1.Create a variable containing a random string of letters in lower-case\n",
    "letter=\"fjeioapeafjeioapfneklwfeafsajoi\"\n",
    "    "
   ]
  },
  {
   "cell_type": "code",
   "execution_count": 39,
   "metadata": {},
   "outputs": [
    {
     "name": "stdout",
     "output_type": "stream",
     "text": [
      "FJEIOAPEAFJEIOAPFNEKLWFEAFSAJOI\n"
     ]
    }
   ],
   "source": [
    "# 2.Print the letters in uppercase \n",
    "print(letter.upper())\n"
   ]
  },
  {
   "cell_type": "code",
   "execution_count": 46,
   "metadata": {},
   "outputs": [],
   "source": [
    "# 3.Replace all a's with b's and assign the result to a variable\n",
    "variable=(letter.replace(\"a\",\"b\"))\n"
   ]
  },
  {
   "cell_type": "code",
   "execution_count": 48,
   "metadata": {},
   "outputs": [
    {
     "name": "stdout",
     "output_type": "stream",
     "text": [
      "fjeiobpebfjeiobpfneklwfebfsbjoi\n"
     ]
    }
   ],
   "source": [
    "# 4.Print this variable\n",
    "print(variable)\n"
   ]
  },
  {
   "cell_type": "markdown",
   "metadata": {},
   "source": [
    "# Strings – Operators\n",
    "- Operators can be used to perform \"mathematics\" with words\n",
    "- ```+``` Joins/Concatenates two strings together\n",
    "- ```*``` Repetition of a string \n",
    "- A string can be seen as a list of characters. Each item in a list has an index, which is the place in the list. Python starts counting indices at 0, so the first item in the list has index 0, the second item has index 1 etc etc\n",
    "    - ```\"cell\"[n]``` returns the <i>'n'</i>th character of the string. **Keep in mind python starts counting lists at index 0.**\n",
    "        - for example: ```\"Arba Minch\"[5]``` returns the 6th character (M)\n",
    "    - ```\"cell\"[x:y]``` returns all the items from index x to index y (so not including the item at index y).\n",
    "        - for example: ```\"Arba Minch\"[2:4]``` returns the third and fourth character (ba)\n",
    "    - ```len(\"ABCDEF\")``` returns the length of the list(number of characters in the string in this case)"
   ]
  },
  {
   "cell_type": "code",
   "execution_count": 31,
   "metadata": {},
   "outputs": [
    {
     "name": "stdout",
     "output_type": "stream",
     "text": [
      "ABCDEF\n"
     ]
    }
   ],
   "source": [
    "print (\"ABC\" + \"DEF\") # concatenate, makes one string out of string \"ABC\" and string \"DEF\""
   ]
  },
  {
   "cell_type": "code",
   "execution_count": 32,
   "metadata": {},
   "outputs": [
    {
     "name": "stdout",
     "output_type": "stream",
     "text": [
      "ABCABC\n"
     ]
    }
   ],
   "source": [
    "print (\"ABC\" * 2) # makes one string out of 2 times string \"ABC\" "
   ]
  },
  {
   "cell_type": "code",
   "execution_count": 33,
   "metadata": {},
   "outputs": [
    {
     "name": "stdout",
     "output_type": "stream",
     "text": [
      "D\n"
     ]
    }
   ],
   "source": [
    "print (\"ABCDEF\"[3]) # returns the 4th letter (index 3 is value 4, as Python counts from 0)"
   ]
  },
  {
   "cell_type": "code",
   "execution_count": 35,
   "metadata": {},
   "outputs": [
    {
     "name": "stdout",
     "output_type": "stream",
     "text": [
      "F\n",
      "F\n",
      "E\n",
      "A\n"
     ]
    }
   ],
   "source": [
    "# Selection of the last characters in a string. \n",
    "print(\"ABCDEF\"[5])\n",
    "# Counting backwards is possible as well; try to print the last character in a different way than selecting index 5\n",
    "print (\"ABCDEF\"[-1])\n",
    "print (\"ABCDEF\"[-2])\n",
    "print(\"ABCDEF\"[-6])"
   ]
  },
  {
   "cell_type": "code",
   "execution_count": 40,
   "metadata": {},
   "outputs": [
    {
     "name": "stdout",
     "output_type": "stream",
     "text": [
      "CD\n"
     ]
    }
   ],
   "source": [
    "print (\"ABCDEF\"[2:4]) # returns the 3th and 4th letter (index 2 is value 3 and index 3 is value 4, as Python counts from 0)\n",
    "# index 2:4 means 2 to 4, so the 4th index is not given"
   ]
  },
  {
   "cell_type": "code",
   "execution_count": 46,
   "metadata": {},
   "outputs": [
    {
     "name": "stdout",
     "output_type": "stream",
     "text": [
      "D\n",
      "DEF\n",
      "ABC\n"
     ]
    }
   ],
   "source": [
    "print (\"ABCDEF\"[3:4]) # returns the 4th letter, same as \"ABCDEF\"[3]\n",
    "print('ABCDEF'[3:])\n",
    "print('ABCDEF'[:3])"
   ]
  },
  {
   "cell_type": "code",
   "execution_count": 47,
   "metadata": {},
   "outputs": [
    {
     "name": "stdout",
     "output_type": "stream",
     "text": [
      "6\n"
     ]
    }
   ],
   "source": [
    "print (len(\"ABCDEF\")) # returns the length / number of characters of the string"
   ]
  },
  {
   "cell_type": "code",
   "execution_count": 48,
   "metadata": {},
   "outputs": [
    {
     "name": "stdout",
     "output_type": "stream",
     "text": [
      "37\n"
     ]
    }
   ],
   "source": [
    "#these operators also work with variables!\n",
    "random_letters = \"jfoepfjieoaneopajfieownfldsvejisnjeks\"\n",
    "print (len(random_letters))          #prints the length of the string (number of characters)"
   ]
  },
  {
   "cell_type": "code",
   "execution_count": 49,
   "metadata": {},
   "outputs": [
    {
     "name": "stdout",
     "output_type": "stream",
     "text": [
      "f\n",
      "j\n",
      "jfoep\n"
     ]
    }
   ],
   "source": [
    "print (random_letters[5])            #prints the character at index 5(6th character)\n",
    "print (random_letters[0])            #prints the character at index 0(1st character)\n",
    "print (random_letters[0:5])          #prints the characters at index 0,1,2,3,4"
   ]
  },
  {
   "cell_type": "code",
   "execution_count": 53,
   "metadata": {},
   "outputs": [
    {
     "name": "stdout",
     "output_type": "stream",
     "text": [
      "jfoepfjieoaneopajfieownfldsvejisnjeksjfoepfjieoaneopajfieownfldsvejisnjeks\n",
      "jfoepfjieoaneopajfieownfldsvejisnjeksjfoepfjieoaneopajfieownfldsvejisnjeksjfoepfjieoaneopajfieownfldsvejisnjeks\n"
     ]
    }
   ],
   "source": [
    "print (random_letters*2)             #prints the string twice\n",
    "print (random_letters + random_letters +random_letters)   #prints the string three times"
   ]
  },
  {
   "cell_type": "code",
   "execution_count": 54,
   "metadata": {
    "scrolled": true
   },
   "outputs": [
    {
     "name": "stdout",
     "output_type": "stream",
     "text": [
      "JFOEP\n"
     ]
    }
   ],
   "source": [
    "# you can also combine operators and methods\n",
    "    #prints the characters at index 0,1,2,3,4 in uppercase\n",
    "print (random_letters[0:5].upper())           "
   ]
  },
  {
   "cell_type": "code",
   "execution_count": 58,
   "metadata": {},
   "outputs": [
    {
     "name": "stdout",
     "output_type": "stream",
     "text": [
      "20\n"
     ]
    }
   ],
   "source": [
    "# makes a repetition of 5 times of the string and then counts the number of f's\n",
    "print ((random_letters*5).count('f'))"
   ]
  },
  {
   "cell_type": "code",
   "execution_count": 65,
   "metadata": {},
   "outputs": [],
   "source": [
    "# try to combine some operators"
   ]
  },
  {
   "cell_type": "markdown",
   "metadata": {},
   "source": [
    "# Exercise: Strings – Operators\n",
    "1. Create two variables and assign a random number of letters to both.\n",
    "2. Combine both variables and print \n",
    "3. Add 10 copies of the string to the first string and assign it to a new variable.\n",
    "4. Print the total length of the combined string \n",
    "5. Print the 5th letter \n",
    "6. Print the 7th to the 14th letter \n",
    "7. Bonus: print the last character of \"gaattc\" but not by using ```string[5]```"
   ]
  },
  {
   "cell_type": "code",
   "execution_count": 67,
   "metadata": {},
   "outputs": [],
   "source": [
    "# 1.Create two variables and assign a random number of letters to both.\n",
    "variable1=\"hawassa\"\n",
    "variable2=\"arbaminch\""
   ]
  },
  {
   "cell_type": "code",
   "execution_count": 75,
   "metadata": {},
   "outputs": [
    {
     "name": "stdout",
     "output_type": "stream",
     "text": [
      "hawassaarbaminch\n",
      "HAWASSA ARBAMINCH\n",
      "Hawassa  Arbaminch\n"
     ]
    }
   ],
   "source": [
    "# 2.Combine both variables and print \n",
    "print(variable1+variable2)  # this  answer is for question 2\n",
    "print(variable1.upper()+ \" \"+ variable2.upper())\n",
    "print(variable1.capitalize()+\"  \" +variable2.capitalize())\n"
   ]
  },
  {
   "cell_type": "code",
   "execution_count": 62,
   "metadata": {},
   "outputs": [
    {
     "name": "stdout",
     "output_type": "stream",
     "text": [
      "hawassaarbamincharbamincharbamincharbamincharbamincharbamincharbamincharbamincharbamincharbaminch\n",
      "97\n"
     ]
    }
   ],
   "source": [
    "# 3. Add 10 copies of the second string to the first string and assign it to a new variable.\n",
    "variable3=variable1+variable2*10\n",
    "# and 4.Print the total length of the combined string \n",
    "print(variable3)\n",
    "print(len(variable3))\n"
   ]
  },
  {
   "cell_type": "code",
   "execution_count": null,
   "metadata": {},
   "outputs": [],
   "source": []
  },
  {
   "cell_type": "code",
   "execution_count": 85,
   "metadata": {},
   "outputs": [
    {
     "name": "stdout",
     "output_type": "stream",
     "text": [
      "s\n",
      "aarbamin\n"
     ]
    }
   ],
   "source": [
    "# 5. Print the 5th letter\n",
    "print(variable3[4])\n",
    "# and 6. Print the 7th to the 14th letter \n",
    "print(variable3[6:14])"
   ]
  },
  {
   "cell_type": "code",
   "execution_count": 87,
   "metadata": {},
   "outputs": [
    {
     "data": {
      "text/plain": [
       "'c'"
      ]
     },
     "execution_count": 87,
     "metadata": {},
     "output_type": "execute_result"
    }
   ],
   "source": [
    "# 7.Bonus: print the last character of \"gaattc\" but not by using string[5]\n",
    "\"gaattc\"[-1]\n",
    "#\"gaattc\"[5] #  not it is not the answer mached with Askd Question"
   ]
  },
  {
   "cell_type": "markdown",
   "metadata": {},
   "source": [
    "# Numbers\n",
    "- Integers: whole numbers such as 1, 5, etc. \n",
    "- Floats: numbers with numbers behind the point, such as 1.5, 5.2, etc. \n",
    "- An integer variable cannot turn into a float and a float variable cannot turn into an integer\n",
    "    - You can make a float if you define the variable with a number behind the point. (e.g. 5.0; 11.3; 5000.0)\n",
    "    - When in doubt if you should use floats or integers, always use floats.\n",
    "- Simple math using numbers (x = 5.0 and y = 2.0) : \n",
    "    - Addition: ```x + y``` = 7.0 \n",
    "    - Subtraction: ```x – y``` = 3.0 \n",
    "    - Division: ```x / y``` = 2.5 \n",
    "    - Floor division (returning integer): `x // y` = 2\n",
    "    - Multiplication: ```x * y``` = 10.0 \n",
    "    - Power: ```x ** y``` = 25.0\n",
    "    - Modulo (remainder): ```x % y ``` = 1.0 (2 + 2 = 4 and 5 - 4 = 1)\n",
    "- Python uses the standard order of operations \n",
    "    - ```5 * (2+1)``` = 15"
   ]
  },
  {
   "cell_type": "code",
   "execution_count": 88,
   "metadata": {},
   "outputs": [],
   "source": [
    "x = 5.0 # adds float 5.0 to variable x\n",
    "y = 2.0 # adds float 2.0 to variable y"
   ]
  },
  {
   "cell_type": "code",
   "execution_count": 89,
   "metadata": {},
   "outputs": [
    {
     "data": {
      "text/plain": [
       "7.0"
      ]
     },
     "execution_count": 89,
     "metadata": {},
     "output_type": "execute_result"
    }
   ],
   "source": [
    "# addition of x and y, in this case 5.0 + 2.0 = 7.0\n",
    "x + y"
   ]
  },
  {
   "cell_type": "code",
   "execution_count": 92,
   "metadata": {},
   "outputs": [
    {
     "data": {
      "text/plain": [
       "3.0"
      ]
     },
     "execution_count": 92,
     "metadata": {},
     "output_type": "execute_result"
    }
   ],
   "source": [
    " # subtraction of y from x, in this case 5.0 - 2.0 = 3.0\n",
    " x - y"
   ]
  },
  {
   "cell_type": "code",
   "execution_count": 101,
   "metadata": {},
   "outputs": [],
   "source": [
    "type?\n"
   ]
  },
  {
   "cell_type": "code",
   "execution_count": 93,
   "metadata": {},
   "outputs": [
    {
     "data": {
      "text/plain": [
       "2.5"
      ]
     },
     "execution_count": 93,
     "metadata": {},
     "output_type": "execute_result"
    }
   ],
   "source": [
    "# division of x by y, 5.0 / 2.0 = 2.5\n",
    "x / y "
   ]
  },
  {
   "cell_type": "code",
   "execution_count": 95,
   "metadata": {},
   "outputs": [
    {
     "data": {
      "text/plain": [
       "2.0"
      ]
     },
     "execution_count": 95,
     "metadata": {},
     "output_type": "execute_result"
    }
   ],
   "source": [
    "# floor division of x by y, 5.0 // 2.0 = 2\n",
    "x // y "
   ]
  },
  {
   "cell_type": "code",
   "execution_count": 96,
   "metadata": {},
   "outputs": [
    {
     "data": {
      "text/plain": [
       "10.0"
      ]
     },
     "execution_count": 96,
     "metadata": {},
     "output_type": "execute_result"
    }
   ],
   "source": [
    "# multiplication of x by y, 5.0 * 2.0 = 10.0\n",
    "x * y "
   ]
  },
  {
   "cell_type": "code",
   "execution_count": 99,
   "metadata": {},
   "outputs": [
    {
     "data": {
      "text/plain": [
       "25.0"
      ]
     },
     "execution_count": 99,
     "metadata": {},
     "output_type": "execute_result"
    }
   ],
   "source": [
    "# x to the power y, 5.0 to the power 2.0 = 25.0\n",
    "x** y "
   ]
  },
  {
   "cell_type": "code",
   "execution_count": 100,
   "metadata": {},
   "outputs": [
    {
     "data": {
      "text/plain": [
       "1.0"
      ]
     },
     "execution_count": 100,
     "metadata": {},
     "output_type": "execute_result"
    }
   ],
   "source": [
    "# remainder, what is left after all full y are taken from x, \n",
    "      # 5.0 % 2.0 = 1.0\n",
    "x % y  "
   ]
  },
  {
   "cell_type": "code",
   "execution_count": 102,
   "metadata": {},
   "outputs": [
    {
     "data": {
      "text/plain": [
       "15"
      ]
     },
     "execution_count": 102,
     "metadata": {},
     "output_type": "execute_result"
    }
   ],
   "source": [
    "# (2 + 1) = 3 and 5 * 3 = 15\n",
    "5 * (2 + 1) "
   ]
  },
  {
   "cell_type": "code",
   "execution_count": 103,
   "metadata": {},
   "outputs": [
    {
     "data": {
      "text/plain": [
       "11"
      ]
     },
     "execution_count": 103,
     "metadata": {},
     "output_type": "execute_result"
    }
   ],
   "source": [
    "# 5 * 2 = 10 and 10 + 1 = 11\n",
    "5 * 2 + 1 "
   ]
  },
  {
   "cell_type": "markdown",
   "metadata": {},
   "source": [
    "# Numbers - Integers and floats\n",
    "\n",
    "In the example below we want to do a simple division of 5/2. The result is supposed to be 2.5 of course, but for some reason the program outputs 2. Can you find out what is wrong in the example code and make the program output the right answer(2.5)?"
   ]
  },
  {
   "cell_type": "code",
   "execution_count": 104,
   "metadata": {},
   "outputs": [
    {
     "name": "stdout",
     "output_type": "stream",
     "text": [
      "2\n"
     ]
    }
   ],
   "source": [
    "number1 = 2\n",
    "number2 = 5\n",
    "print(int(number2 / number1))"
   ]
  },
  {
   "cell_type": "code",
   "execution_count": null,
   "metadata": {},
   "outputs": [],
   "source": [
    "True False # boolean\n",
    "'test' # string\n",
    "3 # integer\n",
    "3.0 # float\n",
    "[3, 1.2, 'dsae', True] # list"
   ]
  },
  {
   "cell_type": "markdown",
   "metadata": {},
   "source": [
    "# Numbers – Exercise \n",
    "1. Assign the 8 to the variable number1 \n",
    "2. Assign the 3 to the variable number2 \n",
    "3. Make a new variable called number3 equal to the division of number1 by number2 \n",
    "4. Print number3 \n",
    "5. Now print number3 without decimals (numbers behind the point) using `int()`"
   ]
  },
  {
   "cell_type": "code",
   "execution_count": 110,
   "metadata": {},
   "outputs": [
    {
     "name": "stdout",
     "output_type": "stream",
     "text": [
      "2.6666666666666665\n"
     ]
    }
   ],
   "source": [
    "### Integers!\n",
    "number1=8\n",
    "number2=3\n",
    "number3=number1/number2\n",
    "print(number3)\n",
    "\n",
    "### 1. 2. 3. and 4. \n"
   ]
  },
  {
   "cell_type": "code",
   "execution_count": 115,
   "metadata": {},
   "outputs": [
    {
     "name": "stdout",
     "output_type": "stream",
     "text": [
      "2.6666666666666665\n",
      "2\n"
     ]
    }
   ],
   "source": [
    "### Floats!\n",
    "### 5.integer\n",
    "print(float(number3))  # float\n",
    "print(int(number3))   #integers\n"
   ]
  },
  {
   "cell_type": "markdown",
   "metadata": {},
   "source": [
    "# Types\n",
    "\n",
    "- Sometimes we need to convert types \n",
    "    - ```str(variable)``` converts variable to a string \n",
    "    - ```int(variable)``` converts variable to a integer \n",
    "    - ```float(variable)``` converts variable to a float"
   ]
  },
  {
   "cell_type": "code",
   "execution_count": 122,
   "metadata": {},
   "outputs": [
    {
     "data": {
      "text/plain": [
       "'22'"
      ]
     },
     "execution_count": 122,
     "metadata": {},
     "output_type": "execute_result"
    }
   ],
   "source": [
    "# concatenates strings \"2\" and \"2\"    \n",
    "\"2\" + \"2\" "
   ]
  },
  {
   "cell_type": "code",
   "execution_count": 117,
   "metadata": {},
   "outputs": [
    {
     "data": {
      "text/plain": [
       "4"
      ]
     },
     "execution_count": 117,
     "metadata": {},
     "output_type": "execute_result"
    }
   ],
   "source": [
    "# int(\"2\") converts string \"2\" in to integer 2; now addition works 2 + 2 = 4\n",
    "int(\"2\") + int(\"2\") \n"
   ]
  },
  {
   "cell_type": "code",
   "execution_count": 118,
   "metadata": {},
   "outputs": [
    {
     "data": {
      "text/plain": [
       "'22'"
      ]
     },
     "execution_count": 118,
     "metadata": {},
     "output_type": "execute_result"
    }
   ],
   "source": [
    "# srt(2) converts integer 2 to string \"2\"; now concatenate works \n",
    "str(2) + str(2) "
   ]
  },
  {
   "cell_type": "code",
   "execution_count": 127,
   "metadata": {},
   "outputs": [
    {
     "ename": "SyntaxError",
     "evalue": "invalid syntax. Perhaps you forgot a comma? (3056938174.py, line 2)",
     "output_type": "error",
     "traceback": [
      "\u001b[1;36m  Cell \u001b[1;32mIn[127], line 2\u001b[1;36m\u001b[0m\n\u001b[1;33m    print(int(this does not work, why?))\u001b[0m\n\u001b[1;37m              ^\u001b[0m\n\u001b[1;31mSyntaxError\u001b[0m\u001b[1;31m:\u001b[0m invalid syntax. Perhaps you forgot a comma?\n"
     ]
    }
   ],
   "source": [
    "# tries to convert this string in an integer\n",
    "print(int('this does not work, why?'))"
   ]
  },
  {
   "cell_type": "code",
   "execution_count": 131,
   "metadata": {},
   "outputs": [
    {
     "data": {
      "text/plain": [
       "2.5"
      ]
     },
     "execution_count": 131,
     "metadata": {},
     "output_type": "execute_result"
    }
   ],
   "source": [
    "# float(5) converts integer 5 in to float 5.0\n",
    "float(5) / float(2) \n"
   ]
  },
  {
   "cell_type": "code",
   "execution_count": null,
   "metadata": {},
   "outputs": [],
   "source": [
    "int(5.0 / 2.0) # int(5.0/2.0) converts float 2.5 in to integer 2"
   ]
  },
  {
   "cell_type": "code",
   "execution_count": 132,
   "metadata": {},
   "outputs": [
    {
     "name": "stdout",
     "output_type": "stream",
     "text": [
      "0\n",
      "1\n",
      "1\n"
     ]
    }
   ],
   "source": [
    "print(int(0.9))\n",
    "print(int(1.0))\n",
    "print(int(1.1))"
   ]
  },
  {
   "cell_type": "markdown",
   "metadata": {},
   "source": [
    "# Last exercise on numbers (Assignment type)\n",
    "\n",
    "- Define three variables: \n",
    "    - name\n",
    "    - length \n",
    "    - weight \n",
    "- Calculate the bmi (a measure of health) of the user \n",
    "    - ```user_bmi = weight / length ** 2``` \n",
    "- Print out with one print command: \n",
    "    - The name and calculated bmi"
   ]
  },
  {
   "cell_type": "code",
   "execution_count": 155,
   "metadata": {},
   "outputs": [],
   "source": [
    "# Define three variables\n",
    "name=\"chanako\"\n",
    "length=1.8\n",
    "weight=68"
   ]
  },
  {
   "cell_type": "code",
   "execution_count": 158,
   "metadata": {},
   "outputs": [
    {
     "name": "stdout",
     "output_type": "stream",
     "text": [
      "20.98765432098765\n"
     ]
    }
   ],
   "source": [
    "# Calculate bmi\n",
    "bmi = weight/length** 2\n",
    "\n",
    "print(bmi)"
   ]
  },
  {
   "cell_type": "code",
   "execution_count": 160,
   "metadata": {},
   "outputs": [
    {
     "name": "stdout",
     "output_type": "stream",
     "text": [
      "chanako\n",
      "20.98765432098765\n"
     ]
    }
   ],
   "source": [
    "# Print the name and calculated bmi\n",
    "print(name)\n",
    "print(bmi)\n"
   ]
  },
  {
   "cell_type": "markdown",
   "metadata": {},
   "source": [
    "# Boolean: True or False \n",
    "- Booleans are the outcome when you compare or test variables \n",
    "- Examples:"
   ]
  },
  {
   "cell_type": "code",
   "execution_count": 161,
   "metadata": {},
   "outputs": [
    {
     "data": {
      "text/plain": [
       "True"
      ]
     },
     "execution_count": 161,
     "metadata": {},
     "output_type": "execute_result"
    }
   ],
   "source": [
    "x = 2     # add integer 2 to variable x\n",
    "x < 3     # test if x is smaller than 3, in this case it is True"
   ]
  },
  {
   "cell_type": "code",
   "execution_count": 162,
   "metadata": {},
   "outputs": [
    {
     "data": {
      "text/plain": [
       "False"
      ]
     },
     "execution_count": 162,
     "metadata": {},
     "output_type": "execute_result"
    }
   ],
   "source": [
    "x = \"yes\"      # add string \"yes\" to variable x\n",
    "x == \"no\"      # by using == test if x is equal to string \"no\""
   ]
  },
  {
   "cell_type": "markdown",
   "metadata": {},
   "source": [
    "## Operators for comparison \n",
    "- ```<``` less than \n",
    "- ```<=``` less than or equal to \n",
    "- ```>``` greater than \n",
    "- ```>=``` greater than or equal to \n",
    "- ```==``` equal\n",
    "- ```!=``` not equal\n",
    "\n",
    "## Boolean – exercise\n",
    "- Below are a couple comparisons. Try to guess the result before executing the comparisons in python."
   ]
  },
  {
   "cell_type": "code",
   "execution_count": 75,
   "metadata": {},
   "outputs": [
    {
     "data": {
      "text/plain": [
       "True"
      ]
     },
     "execution_count": 75,
     "metadata": {},
     "output_type": "execute_result"
    }
   ],
   "source": [
    "5 > 4 # test if 5 is greater than 4\n",
    "5>4"
   ]
  },
  {
   "cell_type": "code",
   "execution_count": 76,
   "metadata": {},
   "outputs": [
    {
     "data": {
      "text/plain": [
       "True"
      ]
     },
     "execution_count": 76,
     "metadata": {},
     "output_type": "execute_result"
    }
   ],
   "source": [
    "# test if 3 is smaller than 5\n",
    "3<5"
   ]
  },
  {
   "cell_type": "code",
   "execution_count": 77,
   "metadata": {},
   "outputs": [
    {
     "data": {
      "text/plain": [
       "True"
      ]
     },
     "execution_count": 77,
     "metadata": {},
     "output_type": "execute_result"
    }
   ],
   "source": [
    "# test if 4 is equal to 4\n",
    "4==4"
   ]
  },
  {
   "cell_type": "code",
   "execution_count": 78,
   "metadata": {},
   "outputs": [
    {
     "data": {
      "text/plain": [
       "True"
      ]
     },
     "execution_count": 78,
     "metadata": {},
     "output_type": "execute_result"
    }
   ],
   "source": [
    "# test if 4 is smaller than OR equal to 4\n",
    "4<=4"
   ]
  },
  {
   "cell_type": "code",
   "execution_count": 79,
   "metadata": {},
   "outputs": [
    {
     "data": {
      "text/plain": [
       "True"
      ]
     },
     "execution_count": 79,
     "metadata": {},
     "output_type": "execute_result"
    }
   ],
   "source": [
    "# test if 4 is greater than OR equal to 3\n",
    "4>=3"
   ]
  },
  {
   "cell_type": "code",
   "execution_count": 80,
   "metadata": {},
   "outputs": [
    {
     "data": {
      "text/plain": [
       "False"
      ]
     },
     "execution_count": 80,
     "metadata": {},
     "output_type": "execute_result"
    }
   ],
   "source": [
    "# test if 3 is NOT equal to 3\n",
    "3!=3"
   ]
  },
  {
   "cell_type": "code",
   "execution_count": 82,
   "metadata": {},
   "outputs": [
    {
     "data": {
      "text/plain": [
       "True"
      ]
     },
     "execution_count": 82,
     "metadata": {},
     "output_type": "execute_result"
    }
   ],
   "source": [
    "# test if \"yes\" is NOT equal to \"no\" \n",
    "\"yes\"!=\"no\""
   ]
  },
  {
   "cell_type": "code",
   "execution_count": 83,
   "metadata": {},
   "outputs": [
    {
     "data": {
      "text/plain": [
       "True"
      ]
     },
     "execution_count": 83,
     "metadata": {},
     "output_type": "execute_result"
    }
   ],
   "source": [
    "# test if \"yes\" is equal to \"yes\"\n",
    "\"yes\"==\"yes\""
   ]
  },
  {
   "cell_type": "markdown",
   "metadata": {},
   "source": [
    "# Boolean – exercise \n",
    "- Just like before, try to guess the result before executing the comparisons\n",
    "- ```and``` means that both comparisons need to be true\n",
    "- ```or``` means that only one of the two comparisons need to be true\n",
    "- ```not``` outputs true if the comparison is false\n",
    "- Boolean logic follows mathematical sequence, thus comparisons between brackets are evaluated first."
   ]
  },
  {
   "cell_type": "code",
   "execution_count": 86,
   "metadata": {},
   "outputs": [
    {
     "data": {
      "text/plain": [
       "True"
      ]
     },
     "execution_count": 86,
     "metadata": {},
     "output_type": "execute_result"
    }
   ],
   "source": [
    "# test if 5 is greater than 3 AND if 5 is greater than 1\n",
    "5>3 and 5>1\n"
   ]
  },
  {
   "cell_type": "code",
   "execution_count": 87,
   "metadata": {},
   "outputs": [
    {
     "data": {
      "text/plain": [
       "True"
      ]
     },
     "execution_count": 87,
     "metadata": {},
     "output_type": "execute_result"
    }
   ],
   "source": [
    "# test if 5 is smaller than 3 OR 5 is greater than 1\n",
    "5<3 or 5>1"
   ]
  },
  {
   "cell_type": "code",
   "execution_count": 1,
   "metadata": {},
   "outputs": [
    {
     "data": {
      "text/plain": [
       "False"
      ]
     },
     "execution_count": 1,
     "metadata": {},
     "output_type": "execute_result"
    }
   ],
   "source": [
    "# test if 5 is NOT greater than 3 \n",
    "5<3"
   ]
  },
  {
   "cell_type": "code",
   "execution_count": 2,
   "metadata": {},
   "outputs": [
    {
     "data": {
      "text/plain": [
       "False"
      ]
     },
     "execution_count": 2,
     "metadata": {},
     "output_type": "execute_result"
    }
   ],
   "source": [
    "# test if 5 is smaller than or equal to 3\n",
    "5<=3"
   ]
  },
  {
   "cell_type": "code",
   "execution_count": 164,
   "metadata": {},
   "outputs": [
    {
     "data": {
      "text/plain": [
       "True"
      ]
     },
     "execution_count": 164,
     "metadata": {},
     "output_type": "execute_result"
    }
   ],
   "source": [
    "# test if 5 is NOT greater than 3 OR 5 is greater than 1\n",
    "5<3 or 5>1"
   ]
  },
  {
   "cell_type": "code",
   "execution_count": 165,
   "metadata": {},
   "outputs": [
    {
     "data": {
      "text/plain": [
       "False"
      ]
     },
     "execution_count": 165,
     "metadata": {},
     "output_type": "execute_result"
    }
   ],
   "source": [
    "# test if both are NOT true\n",
    "5<3 or 5<1"
   ]
  },
  {
   "cell_type": "markdown",
   "metadata": {},
   "source": [
    "# Lists\n",
    "-  A list can contain all types and a combination of different types (characters, strings, integers, floats, booleans, other lists)\n",
    "    - We already discussed that a string is a list of characters\n",
    "- Each item on the list has an index. The index is based on the place on the list, and python starts counting the indices at 0. Thus, the first item on the list has index 0, the second item has index 1 etc. etc. etc.\n",
    "- A list is created between square brackets, with the items seperated by a comma."
   ]
  },
  {
   "cell_type": "markdown",
   "metadata": {},
   "source": [
    "list_of_numbers = [0, 8, 5, 3, 6.5, 9.9, 102]  #creates a list of grades, each item seperated by a comma \n",
    "                                               #and the list is flanked by square brackets\n",
    "print(list_of_numbers)  # prints the list"
   ]
  },
  {
   "cell_type": "code",
   "execution_count": 181,
   "metadata": {},
   "outputs": [
    {
     "name": "stdout",
     "output_type": "stream",
     "text": [
      "s\n",
      "1\n"
     ]
    }
   ],
   "source": [
    "print('list_of_numbers'[2])                 #prints the number at index 2(third item)\n",
    "print(len(list_of_numbers))               #prints the length of the list"
   ]
  },
  {
   "cell_type": "code",
   "execution_count": 187,
   "metadata": {},
   "outputs": [],
   "source": [
    "#you can also make lists of other types\n",
    "booleans = [True, False, True, True, False]  \n",
    "characters = ['a', 'b', 'c']\n",
    "strings = [\"hello\", \"this\", \"is\", \"a\", \"list\"]\n",
    "lists = [booleans, characters, strings]\n",
    "\n",
    "print the lists you've just made:\n",
    "print(booleans),\n",
    "print(characters)\n",
    "print(strings)\n",
    "print(lists)\n"
   ]
  },
  {
   "cell_type": "code",
   "execution_count": null,
   "metadata": {},
   "outputs": [],
   "source": [
    "print(booleans)"
   ]
  },
  {
   "cell_type": "code",
   "execution_count": null,
   "metadata": {},
   "outputs": [],
   "source": [
    "print(characters)"
   ]
  },
  {
   "cell_type": "code",
   "execution_count": null,
   "metadata": {},
   "outputs": [],
   "source": [
    "print(strings)"
   ]
  },
  {
   "cell_type": "code",
   "execution_count": null,
   "metadata": {},
   "outputs": [],
   "source": [
    "print(lists)"
   ]
  },
  {
   "cell_type": "markdown",
   "metadata": {},
   "source": [
    "# Lists - Exercise\n",
    "\n",
    "1. Create a variable with a list of at least 7 numbers\n",
    "2. Print the result of the second number times the fourth number\n",
    "3. Print the first five numbers\n",
    "4. Print the length of the list\n",
    "5. Print the length of the list plus the seventh number"
   ]
  },
  {
   "cell_type": "code",
   "execution_count": 204,
   "metadata": {},
   "outputs": [
    {
     "name": "stdout",
     "output_type": "stream",
     "text": [
      "[1, 4, 5, 8, 9, 10, 12]\n"
     ]
    }
   ],
   "source": [
    "# 1.Create a variable with a list of at least 7 numbers\n",
    "variable=[1,4,5,8,9,10,12]\n",
    "print(variable)"
   ]
  },
  {
   "cell_type": "code",
   "execution_count": 205,
   "metadata": {},
   "outputs": [
    {
     "name": "stdout",
     "output_type": "stream",
     "text": [
      "45\n"
     ]
    }
   ],
   "source": [
    "# 2.Print the result of the second number times the fourth number\n",
    "print(variable[2]*variable[4])\n"
   ]
  },
  {
   "cell_type": "code",
   "execution_count": 207,
   "metadata": {},
   "outputs": [
    {
     "name": "stdout",
     "output_type": "stream",
     "text": [
      "[1, 4, 5, 8, 9]\n"
     ]
    }
   ],
   "source": [
    "# 3.Print the first five numbers\n",
    "print(variable[0:5])"
   ]
  },
  {
   "cell_type": "code",
   "execution_count": 208,
   "metadata": {},
   "outputs": [
    {
     "name": "stdout",
     "output_type": "stream",
     "text": [
      "7\n"
     ]
    }
   ],
   "source": [
    "# 4.Print the length of the list\n",
    "print(len(variable))"
   ]
  },
  {
   "cell_type": "code",
   "execution_count": 223,
   "metadata": {},
   "outputs": [
    {
     "name": "stdout",
     "output_type": "stream",
     "text": [
      "19\n"
     ]
    }
   ],
   "source": [
    "# 5.Print the length of the list plus the seventh number\n",
    "print(len(variable)+ variable[6])\n",
    "      "
   ]
  },
  {
   "cell_type": "markdown",
   "metadata": {},
   "source": [
    "###################################################  END OF MODULE 1  #########################################################"
   ]
  }
 ],
 "metadata": {
  "kernelspec": {
   "display_name": "Python 3 (ipykernel)",
   "language": "python",
   "name": "python3"
  },
  "language_info": {
   "codemirror_mode": {
    "name": "ipython",
    "version": 3
   },
   "file_extension": ".py",
   "mimetype": "text/x-python",
   "name": "python",
   "nbconvert_exporter": "python",
   "pygments_lexer": "ipython3",
   "version": "3.11.5"
  }
 },
 "nbformat": 4,
 "nbformat_minor": 1
}
