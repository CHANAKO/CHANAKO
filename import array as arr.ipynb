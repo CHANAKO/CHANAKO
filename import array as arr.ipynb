{
 "cells": [
  {
   "cell_type": "markdown",
   "id": "afa799f2",
   "metadata": {},
   "source": [
    "The NumPy library provides two methods for converting lists to arrays in Python.\n",
    "\n",
    "    Using numpy.array()\n",
    "    Using numpy.asarray()\n",
    "\n",
    "Method 1: Using numpy.array()\n",
    "\n",
    "In Python, the simplest way to convert a list to a NumPy array is with numpy.array() function. It takes an argument and returns a NumPy array. It creates a new copy in memory.\n",
    "\n",
    "Program 1# importing library of the array in python  \n",
    "    "
   ]
  },
  {
   "cell_type": "code",
   "execution_count": 15,
   "id": "c0a4ff23",
   "metadata": {},
   "outputs": [
    {
     "name": "stdout",
     "output_type": "stream",
     "text": [
      "First element is: 2.0\n",
      "Second element is: 4.0\n",
      "Third element is: 5.0\n",
      "Forth element is: 6.0\n",
      "last element is: 6.0\n",
      "Second last element is: 5.0\n",
      "Third last element is: 4.0\n",
      "Fourth last element is: 2.0\n",
      "2.0 4.0 5.0 6.0 6.0 5.0 4.0 2.0\n"
     ]
    }
   ],
   "source": [
    "import array as arr    \n",
    "a = arr.array('d', [2, 4, 5, 6])    \n",
    "print(\"First element is:\", a[0])    \n",
    "print(\"Second element is:\", a[1])   \n",
    "print(\"Third element is:\", a[2])  \n",
    "print(\"Forth element is:\", a[3])  \n",
    "print(\"last element is:\", a[-1])    \n",
    "print(\"Second last element is:\", a[-2])    \n",
    "print(\"Third last element is:\", a[-3])    \n",
    "print(\"Fourth last element is:\", a[-4])    \n",
    "print(a[0], a[1], a[2], a[3], a[-1],a[-2],a[-3],a[-4]) "
   ]
  },
  {
   "cell_type": "code",
   "execution_count": 15,
   "id": "578b6604",
   "metadata": {},
   "outputs": [
    {
     "name": "stdout",
     "output_type": "stream",
     "text": [
      "List:  [1, 2, 3, 4, 5, 6, 7, 8, 9]\n",
      "Array:  [1 2 3 4 5 6 7 8 9]\n",
      "d: [3, 4, 5]\n"
     ]
    }
   ],
   "source": [
    "import numpy  as np\n",
    "    # initilizing elements of the list  \n",
    "a = [1, 2, 3, 4, 5, 6, 7, 8, 9]  \n",
    "# converting elements of the list into array elements  \n",
    "arraa = np.array(a)  \n",
    "# displaying elements of the list  \n",
    "print (\"List: \", a)  \n",
    "# displaying elements of the array  \n",
    "print (\"Array: \", arraa)"
   ]
  }
 ],
 "metadata": {
  "kernelspec": {
   "display_name": "Python 3 (ipykernel)",
   "language": "python",
   "name": "python3"
  },
  "language_info": {
   "codemirror_mode": {
    "name": "ipython",
    "version": 3
   },
   "file_extension": ".py",
   "mimetype": "text/x-python",
   "name": "python",
   "nbconvert_exporter": "python",
   "pygments_lexer": "ipython3",
   "version": "3.12.0"
  }
 },
 "nbformat": 4,
 "nbformat_minor": 5
}
