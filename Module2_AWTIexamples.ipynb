{
 "cells": [
  {
   "cell_type": "code",
   "execution_count": 1,
   "id": "18d0f23d",
   "metadata": {},
   "outputs": [
    {
     "name": "stdout",
     "output_type": "stream",
     "text": [
      "No immediate flood threat.\n"
     ]
    }
   ],
   "source": [
    "# Simulated river discharge data (cubic meters per second)\n",
    "current_discharge = 200  # Current river discharge\n",
    "flood_warning_threshold = 500  # Threshold for issuing a flood warning\n",
    "\n",
    "# Check if the current river discharge exceeds the flood warning threshold\n",
    "if current_discharge > flood_warning_threshold:\n",
    "    print(\"Flood Warning: River discharge exceeds threshold!\")\n",
    "    # Activate flood warning systems and emergency response\n",
    "else:\n",
    "    print(\"No immediate flood threat.\")\n",
    "    # Continue regular monitoring and data collection"
   ]
  },
  {
   "cell_type": "code",
   "execution_count": 2,
   "id": "ef2bc5cb",
   "metadata": {},
   "outputs": [
    {
     "name": "stdout",
     "output_type": "stream",
     "text": [
      "No immediate flood risk: The river water level is below the threshold.\n"
     ]
    }
   ],
   "source": [
    "# Simulated river water level data (in meters)\n",
    "river_water_level = 3.8  # Example water level reading\n",
    "\n",
    "# Define the flood threshold (in meters)\n",
    "flood_threshold = 4.0  # If the water level exceeds this threshold, issue a flood warning\n",
    "\n",
    "# Check if the water level exceeds the flood threshold\n",
    "if river_water_level > flood_threshold:\n",
    "    print(\"Flood warning: The river water level is dangerously high!\")\n",
    "else:\n",
    "    print(\"No immediate flood risk: The river water level is below the threshold.\")\n",
    "\n",
    "# Continue with other actions or monitoring processes..."
   ]
  },
  {
   "cell_type": "code",
   "execution_count": 3,
   "id": "3356790f",
   "metadata": {},
   "outputs": [
    {
     "name": "stdout",
     "output_type": "stream",
     "text": [
      "Not safe to take off due to poor weather conditions.\n"
     ]
    }
   ],
   "source": [
    "# Get weather data\n",
    "visibility = 3000  # Visibility in meters\n",
    "cloud_cover = 500  # Cloud cover in feet\n",
    "wind_speed = 20    # Wind speed in knots\n",
    "\n",
    "# Check weather conditions\n",
    "if visibility >= 5000 and cloud_cover <= 1000 and wind_speed <= 10:\n",
    "    # If conditions are good, it's safe to take off\n",
    "    print(\"Safe to take off.\")\n",
    "else:\n",
    "    # If conditions are not favorable, it's not safe to take off\n",
    "    print(\"Not safe to take off due to poor weather conditions.\")\n"
   ]
  },
  {
   "cell_type": "code",
   "execution_count": 4,
   "id": "aeee7f99",
   "metadata": {},
   "outputs": [
    {
     "name": "stdout",
     "output_type": "stream",
     "text": [
      "Enter the visibility: 3000\n",
      "Enter the cloud_cover: 500\n",
      "Enter the wind_speed: 20\n",
      "Not safe to take off due to poor weather conditions.\n"
     ]
    }
   ],
   "source": [
    "# Get weather data\n",
    "visibility = float(input(\"Enter the visibility: \"))\n",
    "cloud_cover = float(input(\"Enter the cloud_cover: \"))\n",
    "wind_speed = float(input(\"Enter the wind_speed: \"))\n",
    "# Check weather conditions\n",
    "if visibility >= 5000 and cloud_cover <= 1000 and wind_speed <= 10:\n",
    "    # If conditions are good, it's safe to take off\n",
    "    print(\"Safe to take off.\")\n",
    "else:\n",
    "    # If conditions are not favorable, it's not safe to take off\n",
    "    print(\"Not safe to take off due to poor weather conditions.\")\n"
   ]
  },
  {
   "cell_type": "code",
   "execution_count": 5,
   "id": "f115876b",
   "metadata": {},
   "outputs": [
    {
     "name": "stdout",
     "output_type": "stream",
     "text": [
      "No need for irrigation at this time.\n"
     ]
    }
   ],
   "source": [
    "# Soil moisture level (measured as a percentage)\n",
    "soil_moisture = 40  # Example: 40% moisture content\n",
    "\n",
    "# Weather forecast (rainfall in millimeters)\n",
    "forecasted_rainfall = 5  # Example: 5 mm forecasted rainfall\n",
    "\n",
    "# Define a threshold for soil moisture below which you will irrigate\n",
    "moisture_threshold = 30  # If soil moisture falls below 30%, irrigate\n",
    "\n",
    "# Check if irrigation is needed based on soil moisture and forecasted rainfall\n",
    "if soil_moisture < moisture_threshold and forecasted_rainfall < 10:\n",
    "    # If soil moisture is below the threshold and the forecasted rainfall is low,\n",
    "    # then schedule irrigation\n",
    "    print(\"Schedule irrigation.\")\n",
    "else:\n",
    "    # If soil moisture is above the threshold or rainfall is expected, no need to irrigate\n",
    "    print(\"No need for irrigation at this time.\")\n"
   ]
  },
  {
   "cell_type": "code",
   "execution_count": null,
   "id": "33233794",
   "metadata": {},
   "outputs": [],
   "source": []
  },
  {
   "cell_type": "markdown",
   "id": "207a354e",
   "metadata": {},
   "source": [
    "# Loops"
   ]
  },
  {
   "cell_type": "code",
   "execution_count": null,
   "id": "2186dc21",
   "metadata": {},
   "outputs": [],
   "source": []
  },
  {
   "cell_type": "code",
   "execution_count": 2,
   "id": "5675048b",
   "metadata": {},
   "outputs": [
    {
     "name": "stdout",
     "output_type": "stream",
     "text": [
      "Year 1: Groundwater level = 52.0 meters\n",
      "Year 2: Groundwater level = 54.0 meters\n",
      "Year 3: Groundwater level = 56.0 meters\n",
      "Year 4: Groundwater level = 58.0 meters\n",
      "Year 5: Groundwater level = 60.0 meters\n",
      "Year 6: Groundwater level = 62.0 meters\n",
      "Year 7: Groundwater level = 64.0 meters\n",
      "Year 8: Groundwater level = 66.0 meters\n",
      "Year 9: Groundwater level = 68.0 meters\n",
      "Year 10: Groundwater level = 70.0 meters\n",
      "Groundwater recharge simulation complete.\n"
     ]
    }
   ],
   "source": [
    "# Groundwater recharge parameters\n",
    "initial_groundwater_level = 50.0  # Initial groundwater level in meters\n",
    "recharge_rate = 2.0  # Recharge rate in meters per year\n",
    "simulation_years = 10  # Number of years to simulate\n",
    "\n",
    "# Initialize variables\n",
    "current_year = 0\n",
    "current_groundwater_level = initial_groundwater_level\n",
    "\n",
    "# Simulate groundwater recharge using a while loop\n",
    "while current_year < simulation_years:\n",
    "    # Calculate the change in groundwater level for the year\n",
    "    groundwater_change = recharge_rate\n",
    "    \n",
    "    # Update the current groundwater level\n",
    "    current_groundwater_level += groundwater_change\n",
    "    \n",
    "    # Print the current groundwater level for the year\n",
    "    print(f\"Year {current_year+ 1 }: Groundwater level = {current_groundwater_level} meters\")\n",
    "    \n",
    "    # Increment the year counter\n",
    "    current_year += 1\n",
    "\n",
    "print(\"Groundwater recharge simulation complete.\")\n"
   ]
  },
  {
   "cell_type": "code",
   "execution_count": null,
   "id": "3490656f",
   "metadata": {},
   "outputs": [],
   "source": []
  }
 ],
 "metadata": {
  "kernelspec": {
   "display_name": "Python 3 (ipykernel)",
   "language": "python",
   "name": "python3"
  },
  "language_info": {
   "codemirror_mode": {
    "name": "ipython",
    "version": 3
   },
   "file_extension": ".py",
   "mimetype": "text/x-python",
   "name": "python",
   "nbconvert_exporter": "python",
   "pygments_lexer": "ipython3",
   "version": "3.11.5"
  }
 },
 "nbformat": 4,
 "nbformat_minor": 5
}
